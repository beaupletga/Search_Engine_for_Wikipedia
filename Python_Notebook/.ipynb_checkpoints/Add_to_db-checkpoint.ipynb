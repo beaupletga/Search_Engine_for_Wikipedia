{
 "cells": [
  {
   "cell_type": "code",
   "execution_count": 2,
   "metadata": {},
   "outputs": [],
   "source": [
    "import numpy as np\n",
    "import os\n",
    "import re\n",
    "import json\n",
    "from scipy.sparse import coo_matrix,csr_matrix,csc_matrix,save_npz,load_npz\n",
    "import string\n",
    "from collections import Counter\n",
    "import sqlite3"
   ]
  },
  {
   "cell_type": "code",
   "execution_count": 7,
   "metadata": {},
   "outputs": [],
   "source": [
    "f = open('../Database/dataset.json')\n",
    "dataset = json.load(f)\n",
    "f.close()\n",
    "# dataset={int(key):[value[0],int(value[1]),value[2],value[3],value[4]] for key,value in dataset.items()}\n",
    "\n",
    "conn = sqlite3.connect('../Database/Database.db')\n",
    "cursor = conn.cursor()\n",
    "cursor.execute(\"Drop Table Articles\")\n",
    "create_db=\"CREATE TABLE Articles(ID_ROW NUMERIC,ID_ARTICLE NUMERIC,Title TEXT,URL TEXT,Location TEXT,Line_index NUMERIC);\"\n",
    "cursor.execute(create_db)\n",
    "index=\"CREATE INDEX index_id ON Articles (ID_ROW);\"\n",
    "cursor.execute(index)\n",
    "\n",
    "sq=\"'\" #single quote\n",
    "for key,value in dataset.items():\n",
    "    tmp=value[1].replace(\"'\",\" \")\n",
    "    request='Insert into Articles Values (%s,%s,%s,%s,%s,%s)'%(key,value[0],sq+tmp+sq,sq+value[2]+sq,sq+value[3]+sq,value[4])\n",
    "#     print(request)\n",
    "#     break\n",
    "    cursor.execute(request)\n",
    "conn.commit()\n",
    "conn.close()"
   ]
  },
  {
   "cell_type": "code",
   "execution_count": 4,
   "metadata": {},
   "outputs": [],
   "source": [
    "conn=sqlite3.connect('../Database/Database.db')\n",
    "cursor=conn.cursor()\n",
    "cursor.execute(\"DROP TABLE R\")\n",
    "create_db=\"CREATE TABLE R(ID NUMERIC,Value TEXT);\"\n",
    "cursor.execute(create_db)\n",
    "index=\"CREATE INDEX index_id_r ON R(ID);\"\n",
    "cursor.execute(index)\n",
    "\n",
    "# cursor.execute(\"DELETE FROM R\")\n",
    "r=np.load('../Database/r.npy')\n",
    "sq=\"'\"\n",
    "for i in range(len(r)):\n",
    "    request='Insert into R Values (%d,%s)'%(i,sq+str(r[i,0])+sq)\n",
    "    cursor.execute(request)\n",
    "conn.commit()\n",
    "conn.close()"
   ]
  },
  {
   "cell_type": "code",
   "execution_count": 6,
   "metadata": {},
   "outputs": [],
   "source": [
    "conn=sqlite3.connect('../Database/Database.db')\n",
    "cursor=conn.cursor()\n",
    "cursor.execute(\"Drop table Transitional_id_article_index_R\")\n",
    "create_db=\"CREATE TABLE Transitional_id_article_index_R(ID_ARTICLE NUMERIC,INDEX_ROW NUMERIC);\"\n",
    "cursor.execute(create_db)\n",
    "index=\"CREATE INDEX index_id_article ON Transitional_id_article_index_R(ID_ARTICLE);\"\n",
    "cursor.execute(index)\n",
    "\n",
    "f = open('../Database/indices_dict.json')\n",
    "indices_dict = json.load(f)\n",
    "f.close()\n",
    "for key,value in indices_dict.items():\n",
    "    request='Insert into Transitional_id_article_index_R Values (%d,%d)'%(int(key),value)\n",
    "    cursor.execute(request)\n",
    "conn.commit()\n",
    "conn.close()"
   ]
  },
  {
   "cell_type": "code",
   "execution_count": 16,
   "metadata": {
    "scrolled": true
   },
   "outputs": [
    {
     "name": "stdout",
     "output_type": "stream",
     "text": [
      "100000\n",
      "200000\n",
      "300000\n",
      "400000\n",
      "500000\n",
      "600000\n",
      "700000\n",
      "800000\n",
      "900000\n",
      "1000000\n",
      "1100000\n",
      "1200000\n",
      "1300000\n",
      "1400000\n",
      "1500000\n",
      "1600000\n",
      "1700000\n",
      "1800000\n"
     ]
    }
   ],
   "source": [
    "conn=sqlite3.connect('../Database/Database.db')\n",
    "cursor=conn.cursor()\n",
    "cursor.execute(\"Drop table Vocabulary\")\n",
    "create_db=\"CREATE TABLE Vocabulary(WORD TEXT,INDEX_COLUMN NUMERIC, M_SUM NUMERIC);\"\n",
    "cursor.execute(create_db)\n",
    "index=\"CREATE INDEX index_id_word ON Vocabulary(WORD);\"\n",
    "cursor.execute(index)\n",
    "\n",
    "f = open('../Database/new_voc_dict.json')\n",
    "new_voc_dict = json.load(f)\n",
    "f.close()\n",
    "M = load_npz(\"../Database/M.npz\")\n",
    "sq=\"'\"\n",
    "somme=np.sum(M,axis=0)\n",
    "count=0\n",
    "\n",
    "for key,value in new_voc_dict.items():\n",
    "    request='Insert into Vocabulary Values (%s,%d,%d)'%(sq+key+sq,value,somme[0,value])\n",
    "    cursor.execute(request)\n",
    "    count+=1\n",
    "    if count%100000==0:\n",
    "        print(count)\n",
    "conn.commit()\n",
    "conn.close()"
   ]
  },
  {
   "cell_type": "code",
   "execution_count": 6,
   "metadata": {},
   "outputs": [
    {
     "name": "stdout",
     "output_type": "stream",
     "text": [
      "(1, 1888142)\n"
     ]
    }
   ],
   "source": [
    "print(somme.shape)"
   ]
  },
  {
   "cell_type": "code",
   "execution_count": 9,
   "metadata": {},
   "outputs": [
    {
     "data": {
      "text/plain": [
       "(1347630,)"
      ]
     },
     "execution_count": 9,
     "metadata": {},
     "output_type": "execute_result"
    }
   ],
   "source": [
    "cursor.execute(\"Select count(WORD) from Vocabulary\")\n",
    "cursor.fetchone()"
   ]
  },
  {
   "cell_type": "code",
   "execution_count": 39,
   "metadata": {},
   "outputs": [
    {
     "data": {
      "text/plain": [
       "<sqlite3.Cursor at 0x7f7e79602650>"
      ]
     },
     "execution_count": 39,
     "metadata": {},
     "output_type": "execute_result"
    }
   ],
   "source": [
    "conn=sqlite3.connect('../Database/Database.db')\n",
    "cursor=conn.cursor()\n",
    "cursor.execute(\"Select count(Value) from R\")"
   ]
  },
  {
   "cell_type": "code",
   "execution_count": 41,
   "metadata": {},
   "outputs": [],
   "source": [
    "conn=sqlite3.connect('/home/gabriel/Downloads/ex2.db')"
   ]
  },
  {
   "cell_type": "code",
   "execution_count": 2,
   "metadata": {},
   "outputs": [
    {
     "data": {
      "text/plain": [
       "<sqlite3.Cursor at 0x7f7334013420>"
      ]
     },
     "execution_count": 2,
     "metadata": {},
     "output_type": "execute_result"
    }
   ],
   "source": [
    "conn=sqlite3.connect('../Database/word2vec.db')\n",
    "cursor=conn.cursor()\n",
    "cursor.execute(\"select count(ID) from Vectors\")"
   ]
  },
  {
   "cell_type": "code",
   "execution_count": 3,
   "metadata": {},
   "outputs": [
    {
     "data": {
      "text/plain": [
       "(2014580,)"
      ]
     },
     "execution_count": 3,
     "metadata": {},
     "output_type": "execute_result"
    }
   ],
   "source": [
    "cursor.fetchone()"
   ]
  }
 ],
 "metadata": {
  "kernelspec": {
   "display_name": "Python 3",
   "language": "python",
   "name": "python3"
  },
  "language_info": {
   "codemirror_mode": {
    "name": "ipython",
    "version": 3
   },
   "file_extension": ".py",
   "mimetype": "text/x-python",
   "name": "python",
   "nbconvert_exporter": "python",
   "pygments_lexer": "ipython3",
   "version": "3.5.2"
  }
 },
 "nbformat": 4,
 "nbformat_minor": 2
}
