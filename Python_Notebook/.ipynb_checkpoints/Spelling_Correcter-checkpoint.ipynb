{
 "cells": [
  {
   "cell_type": "code",
   "execution_count": 1,
   "metadata": {},
   "outputs": [],
   "source": [
    "import numpy as np\n",
    "import os\n",
    "import json\n",
    "import re\n",
    "import string\n",
    "from collections import Counter\n",
    "import operator"
   ]
  },
  {
   "cell_type": "code",
   "execution_count": 2,
   "metadata": {},
   "outputs": [],
   "source": [
    "table = str.maketrans(string.punctuation, ' '*len(string.punctuation))\n",
    "def remove_tag(text):\n",
    "    cleanr = re.compile('<.*?>')\n",
    "    cleantext = re.sub(cleanr, '', text)\n",
    "    return cleantext\n",
    "\n",
    "def get_counters(text):\n",
    "    text_without_tag=remove_tag(text)\n",
    "    text_without_tag=''.join([i for i in text_without_tag if not i.isdigit()])\n",
    "    text_split=text_without_tag.translate(table).lower().replace('\\n', ' ').split(' ')    \n",
    "    counter_text=Counter(text_split)\n",
    "    return counter_text"
   ]
  },
  {
   "cell_type": "code",
   "execution_count": 3,
   "metadata": {},
   "outputs": [
    {
     "ename": "NameError",
     "evalue": "name 'q' is not defined",
     "output_type": "error",
     "traceback": [
      "\u001b[0;31m---------------------------------------------------------------------------\u001b[0m",
      "\u001b[0;31mNameError\u001b[0m                                 Traceback (most recent call last)",
      "\u001b[0;32m<ipython-input-3-01db22b5d9a8>\u001b[0m in \u001b[0;36m<module>\u001b[0;34m\u001b[0m\n\u001b[1;32m     20\u001b[0m                         \u001b[0mlength_voc\u001b[0m\u001b[0;34m+=\u001b[0m\u001b[0mcounter_text\u001b[0m\u001b[0;34m[\u001b[0m\u001b[0mkey\u001b[0m\u001b[0;34m]\u001b[0m\u001b[0;34m\u001b[0m\u001b[0m\n\u001b[1;32m     21\u001b[0m                 \u001b[0;32mif\u001b[0m \u001b[0mlength_voc\u001b[0m\u001b[0;34m>\u001b[0m\u001b[0;36m1000000\u001b[0m\u001b[0;34m:\u001b[0m\u001b[0;34m\u001b[0m\u001b[0m\n\u001b[0;32m---> 22\u001b[0;31m                     \u001b[0ms\u001b[0m\u001b[0;34m=\u001b[0m\u001b[0mq\u001b[0m\u001b[0;34m\u001b[0m\u001b[0m\n\u001b[0m",
      "\u001b[0;31mNameError\u001b[0m: name 'q' is not defined"
     ]
    }
   ],
   "source": [
    "path='/home/gabriel/Documents/MPRI/Web_Data_Management/wikiextractor-master/text/'\n",
    " #map punctuation to space\n",
    "voc_dict={}\n",
    "length_voc=0\n",
    "\n",
    "for w,i in enumerate(os.listdir(path)):\n",
    "    for j in os.listdir(path+i):\n",
    "        for filename in os.listdir(path+i+'/'+j):\n",
    "            with open(path+i+'/'+j+'/'+filename) as f:\n",
    "                lines = [line.rstrip('\\n') for line in f]\n",
    "            for line_index,line in enumerate(lines):\n",
    "                a=json.loads(line)\n",
    "                if 'text' in a:\n",
    "                    counter_text=get_counters(a['text'])\n",
    "                    for key in counter_text.keys():\n",
    "                        if key not in voc_dict:\n",
    "                            voc_dict[key]=counter_text[key]\n",
    "                        else:\n",
    "                            voc_dict[key]+=counter_text[key]\n",
    "                        length_voc+=counter_text[key]\n",
    "                if length_voc>1000000:\n",
    "                    s=q"
   ]
  },
  {
   "cell_type": "code",
   "execution_count": 4,
   "metadata": {},
   "outputs": [],
   "source": [
    "for key in voc_dict.keys():\n",
    "    voc_dict[key]/=length_voc"
   ]
  },
  {
   "cell_type": "code",
   "execution_count": 13,
   "metadata": {},
   "outputs": [],
   "source": [
    "def modify_word(word):\n",
    "    letters=list(\"abcdefghijklmnopqrstuvwxyzéèàêûöù\")\n",
    "    if type(word)==str:\n",
    "        word_list=list(word)\n",
    "        \n",
    "    modify_1_letter=[]\n",
    "    for i in range(0,len(word_list)):\n",
    "        for j in range(len(letters)):\n",
    "            tmp=list(word)\n",
    "            tmp[i]=letters[j]\n",
    "            modify_1_letter.append(tmp)\n",
    "\n",
    "    swap_one_letter=[]\n",
    "    for i in range(0,len(word_list)-1):\n",
    "        tmp=list(word)\n",
    "        a=word_list[i]\n",
    "        tmp[i]=tmp[i+1]\n",
    "        tmp[i+1]=a\n",
    "        swap_one_letter.append(tmp)\n",
    "    \n",
    "    insert_one_letter=[]\n",
    "    for i in range(0,len(word_list)+1):\n",
    "        for j in range(len(letters)):\n",
    "            tmp=list(word)\n",
    "            tmp.insert(i,letters[j])\n",
    "            insert_one_letter.append(tmp)\n",
    "    \n",
    "    missing_one_letter=[]\n",
    "    for i in range(0,len(word_list)):\n",
    "        tmp=list(word)\n",
    "        del tmp[i]\n",
    "        missing_one_letter.append(tmp)\n",
    "    \n",
    "    return [''.join(i) for i in modify_1_letter+swap_one_letter+insert_one_letter+missing_one_letter]"
   ]
  },
  {
   "cell_type": "code",
   "execution_count": 72,
   "metadata": {},
   "outputs": [
    {
     "name": "stdout",
     "output_type": "stream",
     "text": [
      "[['versailles', 5.666615667125663e-06], ['versatile', 4.374960625354372e-07], ['versait', 3.7499662503037476e-07]]\n",
      "[['de', 0.02534727187455313], ['et', 0.019871821153609616], ['le', 0.011292398368414685], ['en', 0.008560922951693434], ['est', 0.006720439516044356]]\n",
      "[['la', 0.02791874873126142], ['le', 0.011292398368414685], ['il', 0.00463345829887531], ['l', 0.003774716027555752], ['au', 0.0032094711147599674]]\n"
     ]
    },
    {
     "name": "stderr",
     "output_type": "stream",
     "text": [
      "/home/gabriel/.local/lib/python3.5/site-packages/ipykernel_launcher.py:13: RuntimeWarning: divide by zero encountered in double_scalars\n",
      "  del sys.path[0]\n"
     ]
    },
    {
     "name": "stdout",
     "output_type": "stream",
     "text": [
      "[['bavière', 1.7856982144303558e-05], ['marier', 4.642815357518925e-06], ['barrière', 3.857108143169569e-06], ['barre', 3.5713964288607117e-06], ['barbier', 3.4285405717062834e-06]]\n",
      "[['de', 0.05069454374910626], ['le', 0.011292398368414685], ['et', 0.009935910576804808], ['en', 0.008560922951693434], ['des', 0.006282943453508919]]\n",
      "[['portail', 7.083269583907079e-06], ['corail', 4.999955000404997e-06], ['trail', 4.33329433368433e-06], ['choral', 3.3333033336033314e-06], ['moral', 2.6666426668826646e-06]]\n"
     ]
    }
   ],
   "source": [
    "query_sentence=\"versaill et la bariere de corail\"\n",
    "query_sentence=query_sentence.translate(table).lower().replace('\\n', ' ').split(' ')\n",
    "for query in query_sentence:\n",
    "    l=[modify_word(i) for i in set(modify_word(query))]\n",
    "    reco = set([item for sublist in l for item in sublist if item in voc_dict])\n",
    "    dict1 = Counter(query) \n",
    "    dict2 = Counter(\"francai\")\n",
    "    commonDict = dict1 & dict2 \n",
    "    reco_list=[]\n",
    "    for i in reco:\n",
    "        dict2 = Counter(i)\n",
    "        commonDict = dict1 & dict2\n",
    "        diff1=len(query)/np.sum([value for key,value in commonDict.items()])\n",
    "        diff2=abs(len(query)-len(i))\n",
    "        reco_list.append([i,voc_dict[i]*(1/diff1)*(1/(1+diff2))])\n",
    "    print(sorted(reco_list,key=lambda x:x[1],reverse=True)[:5])"
   ]
  }
 ],
 "metadata": {
  "kernelspec": {
   "display_name": "Python 3",
   "language": "python",
   "name": "python3"
  },
  "language_info": {
   "codemirror_mode": {
    "name": "ipython",
    "version": 3
   },
   "file_extension": ".py",
   "mimetype": "text/x-python",
   "name": "python",
   "nbconvert_exporter": "python",
   "pygments_lexer": "ipython3",
   "version": "3.5.2"
  }
 },
 "nbformat": 4,
 "nbformat_minor": 2
}
