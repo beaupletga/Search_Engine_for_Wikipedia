{
 "cells": [
  {
   "cell_type": "code",
   "execution_count": 29,
   "metadata": {},
   "outputs": [],
   "source": [
    "import urllib.request\n",
    "import lxml.etree as ET"
   ]
  },
  {
   "cell_type": "code",
   "execution_count": 26,
   "metadata": {},
   "outputs": [],
   "source": [
    "header=\"https://fr.wikipedia.org/w/index.php?search=\"\n",
    "query=\"au+secours\"\n",
    "contents = urllib.request.urlopen(header+query).read()\n",
    "root = ET.fromstring(contents)"
   ]
  },
  {
   "cell_type": "code",
   "execution_count": 27,
   "metadata": {},
   "outputs": [
    {
     "name": "stdout",
     "output_type": "stream",
     "text": [
      "Au secours !\n",
      "Au secours Poly, au secours !\n",
      "Comités Jeanne\n",
      "Parachute\n",
      "Jean-Marie Le Pen\n",
      "Secourisme\n",
      "Secours catholique\n",
      "Croix-Rouge française\n",
      "Au secours du petit panda\n",
      "Sortie de secours\n",
      "Accueil\n",
      "Sauveteur secouriste du travail\n",
      "Service départemental d'incendie et de secours\n",
      "Formation aux premiers secours\n",
      "Secourisme de l'avant\n",
      "Nancy\n",
      "Premiers secours (série télévisée)\n",
      "Premiers secours (médecine)\n",
      "Pompier en France\n",
      "L'Île au trésor\n"
     ]
    }
   ],
   "source": [
    "for i in root.xpath(\"//div[@class='mw-search-result-heading']\"):\n",
    "    print(i.getchildren()[0].values()[1])"
   ]
  }
 ],
 "metadata": {
  "kernelspec": {
   "display_name": "Python 3",
   "language": "python",
   "name": "python3"
  },
  "language_info": {
   "codemirror_mode": {
    "name": "ipython",
    "version": 3
   },
   "file_extension": ".py",
   "mimetype": "text/x-python",
   "name": "python",
   "nbconvert_exporter": "python",
   "pygments_lexer": "ipython3",
   "version": "3.5.2"
  }
 },
 "nbformat": 4,
 "nbformat_minor": 2
}
