{
 "cells": [
  {
   "cell_type": "code",
   "execution_count": 1,
   "metadata": {},
   "outputs": [],
   "source": [
    "import numpy as np\n",
    "import os\n",
    "import json\n",
    "import re\n",
    "from gensim.models import KeyedVectors\n",
    "\n",
    "import string\n",
    "from collections import Counter\n",
    "import operator"
   ]
  },
  {
   "cell_type": "code",
   "execution_count": 11,
   "metadata": {},
   "outputs": [
    {
     "data": {
      "text/plain": [
       "88"
      ]
     },
     "execution_count": 11,
     "metadata": {},
     "output_type": "execute_result"
    }
   ],
   "source": [
    "a=[10,10,11]\n",
    "import sys\n",
    "sys.getsizeof(a)"
   ]
  },
  {
   "cell_type": "code",
   "execution_count": 2,
   "metadata": {},
   "outputs": [],
   "source": [
    "model= KeyedVectors.load_word2vec_format('../Database/frWac_non_lem_no_postag_no_phrase_200_skip_cut100.bin', binary=True)"
   ]
  },
  {
   "cell_type": "code",
   "execution_count": 3,
   "metadata": {},
   "outputs": [],
   "source": [
    "table = str.maketrans(string.punctuation, ' '*len(string.punctuation))\n",
    "def remove_tag(text):\n",
    "    cleanr = re.compile('<.*?>')\n",
    "    cleantext = re.sub(cleanr, '', text)\n",
    "    return cleantext\n",
    "\n",
    "def get_counters(text):\n",
    "    text_without_tag=remove_tag(text)\n",
    "    text_without_tag=''.join([i for i in text_without_tag if not i.isdigit()])\n",
    "    text_split=text_without_tag.translate(table).lower().replace('\\n', ' ').split(' ')    \n",
    "    counter_text=Counter(text_split)\n",
    "    return counter_text"
   ]
  },
  {
   "cell_type": "code",
   "execution_count": 5,
   "metadata": {},
   "outputs": [
    {
     "ename": "NameError",
     "evalue": "name 'q' is not defined",
     "output_type": "error",
     "traceback": [
      "\u001b[0;31m---------------------------------------------------------------------------\u001b[0m",
      "\u001b[0;31mNameError\u001b[0m                                 Traceback (most recent call last)",
      "\u001b[0;32m<ipython-input-5-01db22b5d9a8>\u001b[0m in \u001b[0;36m<module>\u001b[0;34m\u001b[0m\n\u001b[1;32m     20\u001b[0m                         \u001b[0mlength_voc\u001b[0m\u001b[0;34m+=\u001b[0m\u001b[0mcounter_text\u001b[0m\u001b[0;34m[\u001b[0m\u001b[0mkey\u001b[0m\u001b[0;34m]\u001b[0m\u001b[0;34m\u001b[0m\u001b[0m\n\u001b[1;32m     21\u001b[0m                 \u001b[0;32mif\u001b[0m \u001b[0mlength_voc\u001b[0m\u001b[0;34m>\u001b[0m\u001b[0;36m1000000\u001b[0m\u001b[0;34m:\u001b[0m\u001b[0;34m\u001b[0m\u001b[0m\n\u001b[0;32m---> 22\u001b[0;31m                     \u001b[0ms\u001b[0m\u001b[0;34m=\u001b[0m\u001b[0mq\u001b[0m\u001b[0;34m\u001b[0m\u001b[0m\n\u001b[0m",
      "\u001b[0;31mNameError\u001b[0m: name 'q' is not defined"
     ]
    }
   ],
   "source": [
    "path='/home/gabriel/Documents/MPRI/Web_Data_Management/wikiextractor-master/text/'\n",
    " #map punctuation to space\n",
    "voc_dict={}\n",
    "length_voc=0\n",
    "\n",
    "for w,i in enumerate(os.listdir(path)):\n",
    "    for j in os.listdir(path+i):\n",
    "        for filename in os.listdir(path+i+'/'+j):\n",
    "            with open(path+i+'/'+j+'/'+filename) as f:\n",
    "                lines = [line.rstrip('\\n') for line in f]\n",
    "            for line_index,line in enumerate(lines):\n",
    "                a=json.loads(line)\n",
    "                if 'text' in a:\n",
    "                    counter_text=get_counters(a['text'])\n",
    "                    for key in counter_text.keys():\n",
    "                        if key not in voc_dict:\n",
    "                            voc_dict[key]=counter_text[key]\n",
    "                        else:\n",
    "                            voc_dict[key]+=counter_text[key]\n",
    "                        length_voc+=counter_text[key]\n",
    "                if length_voc>1000000:\n",
    "                    s=q"
   ]
  },
  {
   "cell_type": "code",
   "execution_count": 6,
   "metadata": {},
   "outputs": [],
   "source": [
    "for key in voc_dict.keys():\n",
    "    voc_dict[key]/=length_voc"
   ]
  },
  {
   "cell_type": "code",
   "execution_count": 16,
   "metadata": {},
   "outputs": [],
   "source": [
    "j = json.dumps(voc_dict)\n",
    "f = open(\"../Database/voc_dict.json\",\"w\")\n",
    "f.write(j)\n",
    "f.close()"
   ]
  },
  {
   "cell_type": "code",
   "execution_count": 7,
   "metadata": {},
   "outputs": [],
   "source": [
    "def modify_word(word):\n",
    "    letters=list(\"abcdefghijklmnopqrstuvwxyzéèàêûöù\")\n",
    "    if type(word)==str:\n",
    "        word_list=list(word)\n",
    "        \n",
    "    modify_1_letter=[]\n",
    "    for i in range(0,len(word_list)):\n",
    "        for j in range(len(letters)):\n",
    "            tmp=list(word)\n",
    "            tmp[i]=letters[j]\n",
    "            modify_1_letter.append(tmp)\n",
    "\n",
    "    swap_one_letter=[]\n",
    "    for i in range(0,len(word_list)-1):\n",
    "        tmp=list(word)\n",
    "        a=word_list[i]\n",
    "        tmp[i]=tmp[i+1]\n",
    "        tmp[i+1]=a\n",
    "        swap_one_letter.append(tmp)\n",
    "    \n",
    "    insert_one_letter=[]\n",
    "    for i in range(0,len(word_list)+1):\n",
    "        for j in range(len(letters)):\n",
    "            tmp=list(word)\n",
    "            tmp.insert(i,letters[j])\n",
    "            insert_one_letter.append(tmp)\n",
    "    \n",
    "    missing_one_letter=[]\n",
    "    for i in range(0,len(word_list)):\n",
    "        tmp=list(word)\n",
    "        del tmp[i]\n",
    "        missing_one_letter.append(tmp)\n",
    "    \n",
    "    return [''.join(i) for i in modify_1_letter+swap_one_letter+insert_one_letter+missing_one_letter]"
   ]
  },
  {
   "cell_type": "code",
   "execution_count": 100,
   "metadata": {},
   "outputs": [
    {
     "name": "stdout",
     "output_type": "stream",
     "text": [
      "le soleil est une école saint au qui se compose\n"
     ]
    }
   ],
   "source": [
    "def distance(a,b):\n",
    "    return np.mean((a.reshape(1,-1)-b.reshape(1,-1))**2)\n",
    "\n",
    "somme=lambda x:sum([i[1] for i in x])\n",
    "\n",
    "query_sentence=\"Le Soleil est une étole naine jaue qui se compose\"\n",
    "query_sentence_ori=query_sentence.lower().replace('\\n', ' ').split(' ')\n",
    "query_sentence=query_sentence.translate(table).lower().replace('\\n', ' ').split(' ')\n",
    "already_in=[i for i in query_sentence if i in voc_dict]\n",
    "w2v_query=np.mean(np.array([model[i] for i in already_in if i in model]),axis=0)\n",
    "query_sentence=[i for i in query_sentence if i not in voc_dict]\n",
    "for query in query_sentence:\n",
    "    l=[modify_word(query)]+[modify_word(i) for i in set(modify_word(query))]\n",
    "    reco = set([item for sublist in l for item in sublist if item in voc_dict])\n",
    "    dict1 = Counter(query) \n",
    "    reco_list=[]\n",
    "    for i in reco:\n",
    "        dict2 = Counter(i)\n",
    "        commonDict = dict1 & dict2\n",
    "        diff1=len(query)/np.sum([value for key,value in commonDict.items()])\n",
    "        diff2=abs(len(query)-len(i))\n",
    "        reco_list.append([i,voc_dict[i]*(1/diff1)*(1/(1+diff2))])\n",
    "    reco_list=sorted(reco_list,key=lambda x:x[1],reverse=True)\n",
    "    reco_list=[[i[0],float(i[1])/somme(reco_list)] for i in reco_list]\n",
    "    w2v=[[i[0],distance(model[i[0]],w2v_query)] for i in reco_list if i[0] in model]\n",
    "#     w2v=sorted(w2v,key=lambda x:x[1])\n",
    "    w2v=[[i[0],i[1]/somme(w2v)] for i in w2v]\n",
    "#     print(w2v)\n",
    "#     print()\n",
    "#     print(reco_list)\n",
    "    both=sorted([[w2v[i][0],-0.8*w2v[i][1]+0.2*reco_list[i][1]] for i in range(len(w2v))],key=lambda x:x[1],reverse=True)\n",
    "#     print()\n",
    "#     print(both)\n",
    "#     print()\n",
    "    query_sentence_ori=[i if i!=query else both[0][0] for i in query_sentence_ori]\n",
    "print(' '.join(query_sentence_ori))"
   ]
  },
  {
   "cell_type": "code",
   "execution_count": 96,
   "metadata": {},
   "outputs": [
    {
     "data": {
      "text/plain": [
       "['theorie', 'des', 'grahes']"
      ]
     },
     "execution_count": 96,
     "metadata": {},
     "output_type": "execute_result"
    }
   ],
   "source": [
    "query_sentence_ori"
   ]
  }
 ],
 "metadata": {
  "kernelspec": {
   "display_name": "Python 3",
   "language": "python",
   "name": "python3"
  },
  "language_info": {
   "codemirror_mode": {
    "name": "ipython",
    "version": 3
   },
   "file_extension": ".py",
   "mimetype": "text/x-python",
   "name": "python",
   "nbconvert_exporter": "python",
   "pygments_lexer": "ipython3",
   "version": "3.5.2"
  }
 },
 "nbformat": 4,
 "nbformat_minor": 2
}
