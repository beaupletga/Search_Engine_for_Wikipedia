{
 "cells": [
  {
   "cell_type": "code",
   "execution_count": 5,
   "metadata": {},
   "outputs": [],
   "source": [
    "import gensim\n",
    "from nltk.corpus import stopwords \n",
    "from nltk.tokenize import word_tokenize\n",
    "from sklearn.neighbors import NearestNeighbors\n",
    "from sklearn.decomposition import PCA\n",
    "from sklearn.random_projection import GaussianRandomProjection\n",
    "from sklearn.neighbors import NearestNeighbors\n",
    "from gensim.models import KeyedVectors\n",
    "import os\n",
    "import json\n",
    "from urllib import unquote\n",
    "import re\n",
    "import numpy as np\n",
    "from scipy.sparse import coo_matrix\n",
    "import operator\n",
    "import pandas as pd\n",
    "import sys\n",
    "import time"
   ]
  },
  {
   "cell_type": "code",
   "execution_count": 2,
   "metadata": {},
   "outputs": [],
   "source": [
    "# %cd faiss/python/\n",
    "# import faiss"
   ]
  },
  {
   "cell_type": "code",
   "execution_count": 6,
   "metadata": {},
   "outputs": [],
   "source": [
    "# import gensim\n",
    "model= KeyedVectors.load_word2vec_format('/home/gabriel/Downloads/frWac_non_lem_no_postag_no_phrase_200_skip_cut100.bin', binary=True)\n",
    "# model = gensim.models.Word2Vec.load('/home/gabriel/Downloads/frWac_non_lem_no_postag_no_phrase_200_skip_cut100.bin')"
   ]
  },
  {
   "cell_type": "code",
   "execution_count": 7,
   "metadata": {},
   "outputs": [
    {
     "ename": "AttributeError",
     "evalue": "type object 'str' has no attribute 'maketrans'",
     "output_type": "error",
     "traceback": [
      "\u001b[0;31m---------------------------------------------------------------------------\u001b[0m",
      "\u001b[0;31mAttributeError\u001b[0m                            Traceback (most recent call last)",
      "\u001b[0;32m<ipython-input-7-050abfee7ba7>\u001b[0m in \u001b[0;36m<module>\u001b[0;34m()\u001b[0m\n\u001b[0;32m----> 1\u001b[0;31m \u001b[0mtable\u001b[0m \u001b[0;34m=\u001b[0m \u001b[0mstr\u001b[0m\u001b[0;34m.\u001b[0m\u001b[0mmaketrans\u001b[0m\u001b[0;34m(\u001b[0m\u001b[0mstring\u001b[0m\u001b[0;34m.\u001b[0m\u001b[0mpunctuation\u001b[0m\u001b[0;34m,\u001b[0m \u001b[0;34m' '\u001b[0m\u001b[0;34m*\u001b[0m\u001b[0mlen\u001b[0m\u001b[0;34m(\u001b[0m\u001b[0mstring\u001b[0m\u001b[0;34m.\u001b[0m\u001b[0mpunctuation\u001b[0m\u001b[0;34m)\u001b[0m\u001b[0;34m)\u001b[0m\u001b[0;34m\u001b[0m\u001b[0m\n\u001b[0m\u001b[1;32m      2\u001b[0m \u001b[0mstop_words\u001b[0m\u001b[0;34m=\u001b[0m\u001b[0;34m[\u001b[0m\u001b[0;34m\"a\"\u001b[0m\u001b[0;34m,\u001b[0m\u001b[0;34m\"abord\"\u001b[0m\u001b[0;34m,\u001b[0m\u001b[0;34m\"absolument\"\u001b[0m\u001b[0;34m,\u001b[0m\u001b[0;34m\"afin\"\u001b[0m\u001b[0;34m,\u001b[0m\u001b[0;34m\"ah\"\u001b[0m\u001b[0;34m,\u001b[0m\u001b[0;34m\"ai\"\u001b[0m\u001b[0;34m,\u001b[0m\u001b[0;34m\"aie\"\u001b[0m\u001b[0;34m,\u001b[0m\u001b[0;34m\"aient\"\u001b[0m\u001b[0;34m,\u001b[0m\u001b[0;34m\"aies\"\u001b[0m\u001b[0;34m,\u001b[0m\u001b[0;34m\"ailleurs\"\u001b[0m\u001b[0;34m,\u001b[0m\u001b[0;34m\"ainsi\"\u001b[0m\u001b[0;34m,\u001b[0m\u001b[0;34m\"ait\"\u001b[0m\u001b[0;34m,\u001b[0m\u001b[0;34m\"allaient\"\u001b[0m\u001b[0;34m,\u001b[0m\u001b[0;34m\"allo\"\u001b[0m\u001b[0;34m,\u001b[0m\u001b[0;34m\"allons\"\u001b[0m\u001b[0;34m,\u001b[0m\u001b[0;34m\"allô\"\u001b[0m\u001b[0;34m,\u001b[0m\u001b[0;34m\"alors\"\u001b[0m\u001b[0;34m,\u001b[0m\u001b[0;34m\"anterieur\"\u001b[0m\u001b[0;34m,\u001b[0m\u001b[0;34m\"anterieure\"\u001b[0m\u001b[0;34m,\u001b[0m\u001b[0;34m\"anterieures\"\u001b[0m\u001b[0;34m,\u001b[0m\u001b[0;34m\"apres\"\u001b[0m\u001b[0;34m,\u001b[0m\u001b[0;34m\"après\"\u001b[0m\u001b[0;34m,\u001b[0m\u001b[0;34m\"as\"\u001b[0m\u001b[0;34m,\u001b[0m\u001b[0;34m\"assez\"\u001b[0m\u001b[0;34m,\u001b[0m\u001b[0;34m\"attendu\"\u001b[0m\u001b[0;34m,\u001b[0m\u001b[0;34m\"au\"\u001b[0m\u001b[0;34m,\u001b[0m\u001b[0;34m\"aucun\"\u001b[0m\u001b[0;34m,\u001b[0m\u001b[0;34m\"aucune\"\u001b[0m\u001b[0;34m,\u001b[0m\u001b[0;34m\"aucuns\"\u001b[0m\u001b[0;34m,\u001b[0m\u001b[0;34m\"aujourd\"\u001b[0m\u001b[0;34m,\u001b[0m\u001b[0;34m\"aujourd'hui\"\u001b[0m\u001b[0;34m,\u001b[0m\u001b[0;34m\"aupres\"\u001b[0m\u001b[0;34m,\u001b[0m\u001b[0;34m\"auquel\"\u001b[0m\u001b[0;34m,\u001b[0m\u001b[0;34m\"aura\"\u001b[0m\u001b[0;34m,\u001b[0m\u001b[0;34m\"aurai\"\u001b[0m\u001b[0;34m,\u001b[0m\u001b[0;34m\"auraient\"\u001b[0m\u001b[0;34m,\u001b[0m\u001b[0;34m\"aurais\"\u001b[0m\u001b[0;34m,\u001b[0m\u001b[0;34m\"aurait\"\u001b[0m\u001b[0;34m,\u001b[0m\u001b[0;34m\"auras\"\u001b[0m\u001b[0;34m,\u001b[0m\u001b[0;34m\"aurez\"\u001b[0m\u001b[0;34m,\u001b[0m\u001b[0;34m\"auriez\"\u001b[0m\u001b[0;34m,\u001b[0m\u001b[0;34m\"aurions\"\u001b[0m\u001b[0;34m,\u001b[0m\u001b[0;34m\"aurons\"\u001b[0m\u001b[0;34m,\u001b[0m\u001b[0;34m\"auront\"\u001b[0m\u001b[0;34m,\u001b[0m\u001b[0;34m\"aussi\"\u001b[0m\u001b[0;34m,\u001b[0m\u001b[0;34m\"autre\"\u001b[0m\u001b[0;34m,\u001b[0m\u001b[0;34m\"autrefois\"\u001b[0m\u001b[0;34m,\u001b[0m\u001b[0;34m\"autrement\"\u001b[0m\u001b[0;34m,\u001b[0m\u001b[0;34m\"autres\"\u001b[0m\u001b[0;34m,\u001b[0m\u001b[0;34m\"autrui\"\u001b[0m\u001b[0;34m,\u001b[0m\u001b[0;34m\"aux\"\u001b[0m\u001b[0;34m,\u001b[0m\u001b[0;34m\"auxquelles\"\u001b[0m\u001b[0;34m,\u001b[0m\u001b[0;34m\"auxquels\"\u001b[0m\u001b[0;34m,\u001b[0m\u001b[0;34m\"avaient\"\u001b[0m\u001b[0;34m,\u001b[0m\u001b[0;34m\"avais\"\u001b[0m\u001b[0;34m,\u001b[0m\u001b[0;34m\"avait\"\u001b[0m\u001b[0;34m,\u001b[0m\u001b[0;34m\"avant\"\u001b[0m\u001b[0;34m,\u001b[0m\u001b[0;34m\"avec\"\u001b[0m\u001b[0;34m,\u001b[0m\u001b[0;34m\"avez\"\u001b[0m\u001b[0;34m,\u001b[0m\u001b[0;34m\"aviez\"\u001b[0m\u001b[0;34m,\u001b[0m\u001b[0;34m\"avions\"\u001b[0m\u001b[0;34m,\u001b[0m\u001b[0;34m\"avoir\"\u001b[0m\u001b[0;34m,\u001b[0m\u001b[0;34m\"avons\"\u001b[0m\u001b[0;34m,\u001b[0m\u001b[0;34m\"ayant\"\u001b[0m\u001b[0;34m,\u001b[0m\u001b[0;34m\"ayez\"\u001b[0m\u001b[0;34m,\u001b[0m\u001b[0;34m\"ayons\"\u001b[0m\u001b[0;34m,\u001b[0m\u001b[0;34m\"b\"\u001b[0m\u001b[0;34m,\u001b[0m\u001b[0;34m\"bah\"\u001b[0m\u001b[0;34m,\u001b[0m\u001b[0;34m\"bas\"\u001b[0m\u001b[0;34m,\u001b[0m\u001b[0;34m\"basee\"\u001b[0m\u001b[0;34m,\u001b[0m\u001b[0;34m\"bat\"\u001b[0m\u001b[0;34m,\u001b[0m\u001b[0;34m\"beau\"\u001b[0m\u001b[0;34m,\u001b[0m\u001b[0;34m\"beaucoup\"\u001b[0m\u001b[0;34m,\u001b[0m\u001b[0;34m\"bien\"\u001b[0m\u001b[0;34m,\u001b[0m\u001b[0;34m\"bigre\"\u001b[0m\u001b[0;34m,\u001b[0m\u001b[0;34m\"bon\"\u001b[0m\u001b[0;34m,\u001b[0m\u001b[0;34m\"boum\"\u001b[0m\u001b[0;34m,\u001b[0m\u001b[0;34m\"bravo\"\u001b[0m\u001b[0;34m,\u001b[0m\u001b[0;34m\"brrr\"\u001b[0m\u001b[0;34m,\u001b[0m\u001b[0;34m\"c\"\u001b[0m\u001b[0;34m,\u001b[0m\u001b[0;34m\"car\"\u001b[0m\u001b[0;34m,\u001b[0m\u001b[0;34m\"ce\"\u001b[0m\u001b[0;34m,\u001b[0m\u001b[0;34m\"ceci\"\u001b[0m\u001b[0;34m,\u001b[0m\u001b[0;34m\"cela\"\u001b[0m\u001b[0;34m,\u001b[0m\u001b[0;34m\"celle\"\u001b[0m\u001b[0;34m,\u001b[0m\u001b[0;34m\"celle-ci\"\u001b[0m\u001b[0;34m,\u001b[0m\u001b[0;34m\"celle-là\"\u001b[0m\u001b[0;34m,\u001b[0m\u001b[0;34m\"celles\"\u001b[0m\u001b[0;34m,\u001b[0m\u001b[0;34m\"celles-ci\"\u001b[0m\u001b[0;34m,\u001b[0m\u001b[0;34m\"celles-là\"\u001b[0m\u001b[0;34m,\u001b[0m\u001b[0;34m\"celui\"\u001b[0m\u001b[0;34m,\u001b[0m\u001b[0;34m\"celui-ci\"\u001b[0m\u001b[0;34m,\u001b[0m\u001b[0;34m\"celui-là\"\u001b[0m\u001b[0;34m,\u001b[0m\u001b[0;34m\"celà\"\u001b[0m\u001b[0;34m,\u001b[0m\u001b[0;34m\"cent\"\u001b[0m\u001b[0;34m,\u001b[0m\u001b[0;34m\"cependant\"\u001b[0m\u001b[0;34m,\u001b[0m\u001b[0;34m\"certain\"\u001b[0m\u001b[0;34m,\u001b[0m\u001b[0;34m\"certaine\"\u001b[0m\u001b[0;34m,\u001b[0m\u001b[0;34m\"certaines\"\u001b[0m\u001b[0;34m,\u001b[0m\u001b[0;34m\"certains\"\u001b[0m\u001b[0;34m,\u001b[0m\u001b[0;34m\"certes\"\u001b[0m\u001b[0;34m,\u001b[0m\u001b[0;34m\"ces\"\u001b[0m\u001b[0;34m,\u001b[0m\u001b[0;34m\"cet\"\u001b[0m\u001b[0;34m,\u001b[0m\u001b[0;34m\"cette\"\u001b[0m\u001b[0;34m,\u001b[0m\u001b[0;34m\"ceux\"\u001b[0m\u001b[0;34m,\u001b[0m\u001b[0;34m\"ceux-ci\"\u001b[0m\u001b[0;34m,\u001b[0m\u001b[0;34m\"ceux-là\"\u001b[0m\u001b[0;34m,\u001b[0m\u001b[0;34m\"chacun\"\u001b[0m\u001b[0;34m,\u001b[0m\u001b[0;34m\"chacune\"\u001b[0m\u001b[0;34m,\u001b[0m\u001b[0;34m\"chaque\"\u001b[0m\u001b[0;34m,\u001b[0m\u001b[0;34m\"cher\"\u001b[0m\u001b[0;34m,\u001b[0m\u001b[0;34m\"chers\"\u001b[0m\u001b[0;34m,\u001b[0m\u001b[0;34m\"chez\"\u001b[0m\u001b[0;34m,\u001b[0m\u001b[0;34m\"chiche\"\u001b[0m\u001b[0;34m,\u001b[0m\u001b[0;34m\"chut\"\u001b[0m\u001b[0;34m,\u001b[0m\u001b[0;34m\"chère\"\u001b[0m\u001b[0;34m,\u001b[0m\u001b[0;34m\"chères\"\u001b[0m\u001b[0;34m,\u001b[0m\u001b[0;34m\"ci\"\u001b[0m\u001b[0;34m,\u001b[0m\u001b[0;34m\"cinq\"\u001b[0m\u001b[0;34m,\u001b[0m\u001b[0;34m\"cinquantaine\"\u001b[0m\u001b[0;34m,\u001b[0m\u001b[0;34m\"cinquante\"\u001b[0m\u001b[0;34m,\u001b[0m\u001b[0;34m\"cinquantième\"\u001b[0m\u001b[0;34m,\u001b[0m\u001b[0;34m\"cinquième\"\u001b[0m\u001b[0;34m,\u001b[0m\u001b[0;34m\"clac\"\u001b[0m\u001b[0;34m,\u001b[0m\u001b[0;34m\"clic\"\u001b[0m\u001b[0;34m,\u001b[0m\u001b[0;34m\"combien\"\u001b[0m\u001b[0;34m,\u001b[0m\u001b[0;34m\"comme\"\u001b[0m\u001b[0;34m,\u001b[0m\u001b[0;34m\"comment\"\u001b[0m\u001b[0;34m,\u001b[0m\u001b[0;34m\"comparable\"\u001b[0m\u001b[0;34m,\u001b[0m\u001b[0;34m\"comparables\"\u001b[0m\u001b[0;34m,\u001b[0m\u001b[0;34m\"compris\"\u001b[0m\u001b[0;34m,\u001b[0m\u001b[0;34m\"concernant\"\u001b[0m\u001b[0;34m,\u001b[0m\u001b[0;34m\"contre\"\u001b[0m\u001b[0;34m,\u001b[0m\u001b[0;34m\"couic\"\u001b[0m\u001b[0;34m,\u001b[0m\u001b[0;34m\"crac\"\u001b[0m\u001b[0;34m,\u001b[0m\u001b[0;34m\"d\"\u001b[0m\u001b[0;34m,\u001b[0m\u001b[0;34m\"da\"\u001b[0m\u001b[0;34m,\u001b[0m\u001b[0;34m\"dans\"\u001b[0m\u001b[0;34m,\u001b[0m\u001b[0;34m\"de\"\u001b[0m\u001b[0;34m,\u001b[0m\u001b[0;34m\"debout\"\u001b[0m\u001b[0;34m,\u001b[0m\u001b[0;34m\"dedans\"\u001b[0m\u001b[0;34m,\u001b[0m\u001b[0;34m\"dehors\"\u001b[0m\u001b[0;34m,\u001b[0m\u001b[0;34m\"deja\"\u001b[0m\u001b[0;34m,\u001b[0m\u001b[0;34m\"delà\"\u001b[0m\u001b[0;34m,\u001b[0m\u001b[0;34m\"depuis\"\u001b[0m\u001b[0;34m,\u001b[0m\u001b[0;34m\"dernier\"\u001b[0m\u001b[0;34m,\u001b[0m\u001b[0;34m\"derniere\"\u001b[0m\u001b[0;34m,\u001b[0m\u001b[0;34m\"derriere\"\u001b[0m\u001b[0;34m,\u001b[0m\u001b[0;34m\"derrière\"\u001b[0m\u001b[0;34m,\u001b[0m\u001b[0;34m\"des\"\u001b[0m\u001b[0;34m,\u001b[0m\u001b[0;34m\"desormais\"\u001b[0m\u001b[0;34m,\u001b[0m\u001b[0;34m\"desquelles\"\u001b[0m\u001b[0;34m,\u001b[0m\u001b[0;34m\"desquels\"\u001b[0m\u001b[0;34m,\u001b[0m\u001b[0;34m\"dessous\"\u001b[0m\u001b[0;34m,\u001b[0m\u001b[0;34m\"dessus\"\u001b[0m\u001b[0;34m,\u001b[0m\u001b[0;34m\"deux\"\u001b[0m\u001b[0;34m,\u001b[0m\u001b[0;34m\"deuxième\"\u001b[0m\u001b[0;34m,\u001b[0m\u001b[0;34m\"deuxièmement\"\u001b[0m\u001b[0;34m,\u001b[0m\u001b[0;34m\"devant\"\u001b[0m\u001b[0;34m,\u001b[0m\u001b[0;34m\"devers\"\u001b[0m\u001b[0;34m,\u001b[0m\u001b[0;34m\"devra\"\u001b[0m\u001b[0;34m,\u001b[0m\u001b[0;34m\"devrait\"\u001b[0m\u001b[0;34m,\u001b[0m\u001b[0;34m\"different\"\u001b[0m\u001b[0;34m,\u001b[0m\u001b[0;34m\"differentes\"\u001b[0m\u001b[0;34m,\u001b[0m\u001b[0;34m\"differents\"\u001b[0m\u001b[0;34m,\u001b[0m\u001b[0;34m\"différent\"\u001b[0m\u001b[0;34m,\u001b[0m\u001b[0;34m\"différente\"\u001b[0m\u001b[0;34m,\u001b[0m\u001b[0;34m\"différentes\"\u001b[0m\u001b[0;34m,\u001b[0m\u001b[0;34m\"différents\"\u001b[0m\u001b[0;34m,\u001b[0m\u001b[0;34m\"dire\"\u001b[0m\u001b[0;34m,\u001b[0m\u001b[0;34m\"directe\"\u001b[0m\u001b[0;34m,\u001b[0m\u001b[0;34m\"directement\"\u001b[0m\u001b[0;34m,\u001b[0m\u001b[0;34m\"dit\"\u001b[0m\u001b[0;34m,\u001b[0m\u001b[0;34m\"dite\"\u001b[0m\u001b[0;34m,\u001b[0m\u001b[0;34m\"dits\"\u001b[0m\u001b[0;34m,\u001b[0m\u001b[0;34m\"divers\"\u001b[0m\u001b[0;34m,\u001b[0m\u001b[0;34m\"diverse\"\u001b[0m\u001b[0;34m,\u001b[0m\u001b[0;34m\"diverses\"\u001b[0m\u001b[0;34m,\u001b[0m\u001b[0;34m\"dix\"\u001b[0m\u001b[0;34m,\u001b[0m\u001b[0;34m\"dix-huit\"\u001b[0m\u001b[0;34m,\u001b[0m\u001b[0;34m\"dix-neuf\"\u001b[0m\u001b[0;34m,\u001b[0m\u001b[0;34m\"dix-sept\"\u001b[0m\u001b[0;34m,\u001b[0m\u001b[0;34m\"dixième\"\u001b[0m\u001b[0;34m,\u001b[0m\u001b[0;34m\"doit\"\u001b[0m\u001b[0;34m,\u001b[0m\u001b[0;34m\"doivent\"\u001b[0m\u001b[0;34m,\u001b[0m\u001b[0;34m\"donc\"\u001b[0m\u001b[0;34m,\u001b[0m\u001b[0;34m\"dont\"\u001b[0m\u001b[0;34m,\u001b[0m\u001b[0;34m\"dos\"\u001b[0m\u001b[0;34m,\u001b[0m\u001b[0;34m\"douze\"\u001b[0m\u001b[0;34m,\u001b[0m\u001b[0;34m\"douzième\"\u001b[0m\u001b[0;34m,\u001b[0m\u001b[0;34m\"dring\"\u001b[0m\u001b[0;34m,\u001b[0m\u001b[0;34m\"droite\"\u001b[0m\u001b[0;34m,\u001b[0m\u001b[0;34m\"du\"\u001b[0m\u001b[0;34m,\u001b[0m\u001b[0;34m\"duquel\"\u001b[0m\u001b[0;34m,\u001b[0m\u001b[0;34m\"durant\"\u001b[0m\u001b[0;34m,\u001b[0m\u001b[0;34m\"dès\"\u001b[0m\u001b[0;34m,\u001b[0m\u001b[0;34m\"début\"\u001b[0m\u001b[0;34m,\u001b[0m\u001b[0;34m\"désormais\"\u001b[0m\u001b[0;34m,\u001b[0m\u001b[0;34m\"e\"\u001b[0m\u001b[0;34m,\u001b[0m\u001b[0;34m\"effet\"\u001b[0m\u001b[0;34m,\u001b[0m\u001b[0;34m\"egale\"\u001b[0m\u001b[0;34m,\u001b[0m\u001b[0;34m\"egalement\"\u001b[0m\u001b[0;34m,\u001b[0m\u001b[0;34m\"egales\"\u001b[0m\u001b[0;34m,\u001b[0m\u001b[0;34m\"eh\"\u001b[0m\u001b[0;34m,\u001b[0m\u001b[0;34m\"elle\"\u001b[0m\u001b[0;34m,\u001b[0m\u001b[0;34m\"elle-même\"\u001b[0m\u001b[0;34m,\u001b[0m\u001b[0;34m\"elles\"\u001b[0m\u001b[0;34m,\u001b[0m\u001b[0;34m\"elles-mêmes\"\u001b[0m\u001b[0;34m,\u001b[0m\u001b[0;34m\"en\"\u001b[0m\u001b[0;34m,\u001b[0m\u001b[0;34m\"encore\"\u001b[0m\u001b[0;34m,\u001b[0m\u001b[0;34m\"enfin\"\u001b[0m\u001b[0;34m,\u001b[0m\u001b[0;34m\"entre\"\u001b[0m\u001b[0;34m,\u001b[0m\u001b[0;34m\"envers\"\u001b[0m\u001b[0;34m,\u001b[0m\u001b[0;34m\"environ\"\u001b[0m\u001b[0;34m,\u001b[0m\u001b[0;34m\"es\"\u001b[0m\u001b[0;34m,\u001b[0m\u001b[0;34m\"essai\"\u001b[0m\u001b[0;34m,\u001b[0m\u001b[0;34m\"est\"\u001b[0m\u001b[0;34m,\u001b[0m\u001b[0;34m\"et\"\u001b[0m\u001b[0;34m,\u001b[0m\u001b[0;34m\"etant\"\u001b[0m\u001b[0;34m,\u001b[0m\u001b[0;34m\"etc\"\u001b[0m\u001b[0;34m,\u001b[0m\u001b[0;34m\"etre\"\u001b[0m\u001b[0;34m,\u001b[0m\u001b[0;34m\"eu\"\u001b[0m\u001b[0;34m,\u001b[0m\u001b[0;34m\"eue\"\u001b[0m\u001b[0;34m,\u001b[0m\u001b[0;34m\"eues\"\u001b[0m\u001b[0;34m,\u001b[0m\u001b[0;34m\"euh\"\u001b[0m\u001b[0;34m,\u001b[0m\u001b[0;34m\"eurent\"\u001b[0m\u001b[0;34m,\u001b[0m\u001b[0;34m\"eus\"\u001b[0m\u001b[0;34m,\u001b[0m\u001b[0;34m\"eusse\"\u001b[0m\u001b[0;34m,\u001b[0m\u001b[0;34m\"eussent\"\u001b[0m\u001b[0;34m,\u001b[0m\u001b[0;34m\"eusses\"\u001b[0m\u001b[0;34m,\u001b[0m\u001b[0;34m\"eussiez\"\u001b[0m\u001b[0;34m,\u001b[0m\u001b[0;34m\"eussions\"\u001b[0m\u001b[0;34m,\u001b[0m\u001b[0;34m\"eut\"\u001b[0m\u001b[0;34m,\u001b[0m\u001b[0;34m\"eux\"\u001b[0m\u001b[0;34m,\u001b[0m\u001b[0;34m\"eux-mêmes\"\u001b[0m\u001b[0;34m,\u001b[0m\u001b[0;34m\"exactement\"\u001b[0m\u001b[0;34m,\u001b[0m\u001b[0;34m\"excepté\"\u001b[0m\u001b[0;34m,\u001b[0m\u001b[0;34m\"extenso\"\u001b[0m\u001b[0;34m,\u001b[0m\u001b[0;34m\"exterieur\"\u001b[0m\u001b[0;34m,\u001b[0m\u001b[0;34m\"eûmes\"\u001b[0m\u001b[0;34m,\u001b[0m\u001b[0;34m\"eût\"\u001b[0m\u001b[0;34m,\u001b[0m\u001b[0;34m\"eûtes\"\u001b[0m\u001b[0;34m,\u001b[0m\u001b[0;34m\"f\"\u001b[0m\u001b[0;34m,\u001b[0m\u001b[0;34m\"fais\"\u001b[0m\u001b[0;34m,\u001b[0m\u001b[0;34m\"faisaient\"\u001b[0m\u001b[0;34m,\u001b[0m\u001b[0;34m\"faisant\"\u001b[0m\u001b[0;34m,\u001b[0m\u001b[0;34m\"fait\"\u001b[0m\u001b[0;34m,\u001b[0m\u001b[0;34m\"faites\"\u001b[0m\u001b[0;34m,\u001b[0m\u001b[0;34m\"façon\"\u001b[0m\u001b[0;34m,\u001b[0m\u001b[0;34m\"feront\"\u001b[0m\u001b[0;34m,\u001b[0m\u001b[0;34m\"fi\"\u001b[0m\u001b[0;34m,\u001b[0m\u001b[0;34m\"flac\"\u001b[0m\u001b[0;34m,\u001b[0m\u001b[0;34m\"floc\"\u001b[0m\u001b[0;34m,\u001b[0m\u001b[0;34m\"fois\"\u001b[0m\u001b[0;34m,\u001b[0m\u001b[0;34m\"font\"\u001b[0m\u001b[0;34m,\u001b[0m\u001b[0;34m\"force\"\u001b[0m\u001b[0;34m,\u001b[0m\u001b[0;34m\"furent\"\u001b[0m\u001b[0;34m,\u001b[0m\u001b[0;34m\"fus\"\u001b[0m\u001b[0;34m,\u001b[0m\u001b[0;34m\"fusse\"\u001b[0m\u001b[0;34m,\u001b[0m\u001b[0;34m\"fussent\"\u001b[0m\u001b[0;34m,\u001b[0m\u001b[0;34m\"fusses\"\u001b[0m\u001b[0;34m,\u001b[0m\u001b[0;34m\"fussiez\"\u001b[0m\u001b[0;34m,\u001b[0m\u001b[0;34m\"fussions\"\u001b[0m\u001b[0;34m,\u001b[0m\u001b[0;34m\"fut\"\u001b[0m\u001b[0;34m,\u001b[0m\u001b[0;34m\"fûmes\"\u001b[0m\u001b[0;34m,\u001b[0m\u001b[0;34m\"fût\"\u001b[0m\u001b[0;34m,\u001b[0m\u001b[0;34m\"fûtes\"\u001b[0m\u001b[0;34m,\u001b[0m\u001b[0;34m\"g\"\u001b[0m\u001b[0;34m,\u001b[0m\u001b[0;34m\"gens\"\u001b[0m\u001b[0;34m,\u001b[0m\u001b[0;34m\"h\"\u001b[0m\u001b[0;34m,\u001b[0m\u001b[0;34m\"ha\"\u001b[0m\u001b[0;34m,\u001b[0m\u001b[0;34m\"haut\"\u001b[0m\u001b[0;34m,\u001b[0m\u001b[0;34m\"hein\"\u001b[0m\u001b[0;34m,\u001b[0m\u001b[0;34m\"hem\"\u001b[0m\u001b[0;34m,\u001b[0m\u001b[0;34m\"hep\"\u001b[0m\u001b[0;34m,\u001b[0m\u001b[0;34m\"hi\"\u001b[0m\u001b[0;34m,\u001b[0m\u001b[0;34m\"ho\"\u001b[0m\u001b[0;34m,\u001b[0m\u001b[0;34m\"holà\"\u001b[0m\u001b[0;34m,\u001b[0m\u001b[0;34m\"hop\"\u001b[0m\u001b[0;34m,\u001b[0m\u001b[0;34m\"hormis\"\u001b[0m\u001b[0;34m,\u001b[0m\u001b[0;34m\"hors\"\u001b[0m\u001b[0;34m,\u001b[0m\u001b[0;34m\"hou\"\u001b[0m\u001b[0;34m,\u001b[0m\u001b[0;34m\"houp\"\u001b[0m\u001b[0;34m,\u001b[0m\u001b[0;34m\"hue\"\u001b[0m\u001b[0;34m,\u001b[0m\u001b[0;34m\"hui\"\u001b[0m\u001b[0;34m,\u001b[0m\u001b[0;34m\"huit\"\u001b[0m\u001b[0;34m,\u001b[0m\u001b[0;34m\"huitième\"\u001b[0m\u001b[0;34m,\u001b[0m\u001b[0;34m\"hum\"\u001b[0m\u001b[0;34m,\u001b[0m\u001b[0;34m\"hurrah\"\u001b[0m\u001b[0;34m,\u001b[0m\u001b[0;34m\"hé\"\u001b[0m\u001b[0;34m,\u001b[0m\u001b[0;34m\"hélas\"\u001b[0m\u001b[0;34m,\u001b[0m\u001b[0;34m\"i\"\u001b[0m\u001b[0;34m,\u001b[0m\u001b[0;34m\"ici\"\u001b[0m\u001b[0;34m,\u001b[0m\u001b[0;34m\"il\"\u001b[0m\u001b[0;34m,\u001b[0m\u001b[0;34m\"ils\"\u001b[0m\u001b[0;34m,\u001b[0m\u001b[0;34m\"importe\"\u001b[0m\u001b[0;34m,\u001b[0m\u001b[0;34m\"j\"\u001b[0m\u001b[0;34m,\u001b[0m\u001b[0;34m\"je\"\u001b[0m\u001b[0;34m,\u001b[0m\u001b[0;34m\"jusqu\"\u001b[0m\u001b[0;34m,\u001b[0m\u001b[0;34m\"jusque\"\u001b[0m\u001b[0;34m,\u001b[0m\u001b[0;34m\"juste\"\u001b[0m\u001b[0;34m,\u001b[0m\u001b[0;34m\"k\"\u001b[0m\u001b[0;34m,\u001b[0m\u001b[0;34m\"l\"\u001b[0m\u001b[0;34m,\u001b[0m\u001b[0;34m\"la\"\u001b[0m\u001b[0;34m,\u001b[0m\u001b[0;34m\"laisser\"\u001b[0m\u001b[0;34m,\u001b[0m\u001b[0;34m\"laquelle\"\u001b[0m\u001b[0;34m,\u001b[0m\u001b[0;34m\"las\"\u001b[0m\u001b[0;34m,\u001b[0m\u001b[0;34m\"le\"\u001b[0m\u001b[0;34m,\u001b[0m\u001b[0;34m\"lequel\"\u001b[0m\u001b[0;34m,\u001b[0m\u001b[0;34m\"les\"\u001b[0m\u001b[0;34m,\u001b[0m\u001b[0;34m\"lesquelles\"\u001b[0m\u001b[0;34m,\u001b[0m\u001b[0;34m\"lesquels\"\u001b[0m\u001b[0;34m,\u001b[0m\u001b[0;34m\"leur\"\u001b[0m\u001b[0;34m,\u001b[0m\u001b[0;34m\"leurs\"\u001b[0m\u001b[0;34m,\u001b[0m\u001b[0;34m\"longtemps\"\u001b[0m\u001b[0;34m,\u001b[0m\u001b[0;34m\"lors\"\u001b[0m\u001b[0;34m,\u001b[0m\u001b[0;34m\"lorsque\"\u001b[0m\u001b[0;34m,\u001b[0m\u001b[0;34m\"lui\"\u001b[0m\u001b[0;34m,\u001b[0m\u001b[0;34m\"lui-meme\"\u001b[0m\u001b[0;34m,\u001b[0m\u001b[0;34m\"lui-même\"\u001b[0m\u001b[0;34m,\u001b[0m\u001b[0;34m\"là\"\u001b[0m\u001b[0;34m,\u001b[0m\u001b[0;34m\"lès\"\u001b[0m\u001b[0;34m,\u001b[0m\u001b[0;34m\"m\"\u001b[0m\u001b[0;34m,\u001b[0m\u001b[0;34m\"ma\"\u001b[0m\u001b[0;34m,\u001b[0m\u001b[0;34m\"maint\"\u001b[0m\u001b[0;34m,\u001b[0m\u001b[0;34m\"maintenant\"\u001b[0m\u001b[0;34m,\u001b[0m\u001b[0;34m\"mais\"\u001b[0m\u001b[0;34m,\u001b[0m\u001b[0;34m\"malgre\"\u001b[0m\u001b[0;34m,\u001b[0m\u001b[0;34m\"malgré\"\u001b[0m\u001b[0;34m,\u001b[0m\u001b[0;34m\"maximale\"\u001b[0m\u001b[0;34m,\u001b[0m\u001b[0;34m\"me\"\u001b[0m\u001b[0;34m,\u001b[0m\u001b[0;34m\"meme\"\u001b[0m\u001b[0;34m,\u001b[0m\u001b[0;34m\"memes\"\u001b[0m\u001b[0;34m,\u001b[0m\u001b[0;34m\"merci\"\u001b[0m\u001b[0;34m,\u001b[0m\u001b[0;34m\"mes\"\u001b[0m\u001b[0;34m,\u001b[0m\u001b[0;34m\"mien\"\u001b[0m\u001b[0;34m,\u001b[0m\u001b[0;34m\"mienne\"\u001b[0m\u001b[0;34m,\u001b[0m\u001b[0;34m\"miennes\"\u001b[0m\u001b[0;34m,\u001b[0m\u001b[0;34m\"miens\"\u001b[0m\u001b[0;34m,\u001b[0m\u001b[0;34m\"mille\"\u001b[0m\u001b[0;34m,\u001b[0m\u001b[0;34m\"mince\"\u001b[0m\u001b[0;34m,\u001b[0m\u001b[0;34m\"mine\"\u001b[0m\u001b[0;34m,\u001b[0m\u001b[0;34m\"minimale\"\u001b[0m\u001b[0;34m,\u001b[0m\u001b[0;34m\"moi\"\u001b[0m\u001b[0;34m,\u001b[0m\u001b[0;34m\"moi-meme\"\u001b[0m\u001b[0;34m,\u001b[0m\u001b[0;34m\"moi-même\"\u001b[0m\u001b[0;34m,\u001b[0m\u001b[0;34m\"moindres\"\u001b[0m\u001b[0;34m,\u001b[0m\u001b[0;34m\"moins\"\u001b[0m\u001b[0;34m,\u001b[0m\u001b[0;34m\"mon\"\u001b[0m\u001b[0;34m,\u001b[0m\u001b[0;34m\"mot\"\u001b[0m\u001b[0;34m,\u001b[0m\u001b[0;34m\"moyennant\"\u001b[0m\u001b[0;34m,\u001b[0m\u001b[0;34m\"multiple\"\u001b[0m\u001b[0;34m,\u001b[0m\u001b[0;34m\"multiples\"\u001b[0m\u001b[0;34m,\u001b[0m\u001b[0;34m\"même\"\u001b[0m\u001b[0;34m,\u001b[0m\u001b[0;34m\"mêmes\"\u001b[0m\u001b[0;34m,\u001b[0m\u001b[0;34m\"n\"\u001b[0m\u001b[0;34m,\u001b[0m\u001b[0;34m\"na\"\u001b[0m\u001b[0;34m,\u001b[0m\u001b[0;34m\"naturel\"\u001b[0m\u001b[0;34m,\u001b[0m\u001b[0;34m\"naturelle\"\u001b[0m\u001b[0;34m,\u001b[0m\u001b[0;34m\"naturelles\"\u001b[0m\u001b[0;34m,\u001b[0m\u001b[0;34m\"ne\"\u001b[0m\u001b[0;34m,\u001b[0m\u001b[0;34m\"neanmoins\"\u001b[0m\u001b[0;34m,\u001b[0m\u001b[0;34m\"necessaire\"\u001b[0m\u001b[0;34m,\u001b[0m\u001b[0;34m\"necessairement\"\u001b[0m\u001b[0;34m,\u001b[0m\u001b[0;34m\"neuf\"\u001b[0m\u001b[0;34m,\u001b[0m\u001b[0;34m\"neuvième\"\u001b[0m\u001b[0;34m,\u001b[0m\u001b[0;34m\"ni\"\u001b[0m\u001b[0;34m,\u001b[0m\u001b[0;34m\"nombreuses\"\u001b[0m\u001b[0;34m,\u001b[0m\u001b[0;34m\"nombreux\"\u001b[0m\u001b[0;34m,\u001b[0m\u001b[0;34m\"nommés\"\u001b[0m\u001b[0;34m,\u001b[0m\u001b[0;34m\"non\"\u001b[0m\u001b[0;34m,\u001b[0m\u001b[0;34m\"nos\"\u001b[0m\u001b[0;34m,\u001b[0m\u001b[0;34m\"notamment\"\u001b[0m\u001b[0;34m,\u001b[0m\u001b[0;34m\"notre\"\u001b[0m\u001b[0;34m,\u001b[0m\u001b[0;34m\"nous\"\u001b[0m\u001b[0;34m,\u001b[0m\u001b[0;34m\"nous-mêmes\"\u001b[0m\u001b[0;34m,\u001b[0m\u001b[0;34m\"nouveau\"\u001b[0m\u001b[0;34m,\u001b[0m\u001b[0;34m\"nouveaux\"\u001b[0m\u001b[0;34m,\u001b[0m\u001b[0;34m\"nul\"\u001b[0m\u001b[0;34m,\u001b[0m\u001b[0;34m\"néanmoins\"\u001b[0m\u001b[0;34m,\u001b[0m\u001b[0;34m\"nôtre\"\u001b[0m\u001b[0;34m,\u001b[0m\u001b[0;34m\"nôtres\"\u001b[0m\u001b[0;34m,\u001b[0m\u001b[0;34m\"o\"\u001b[0m\u001b[0;34m,\u001b[0m\u001b[0;34m\"oh\"\u001b[0m\u001b[0;34m,\u001b[0m\u001b[0;34m\"ohé\"\u001b[0m\u001b[0;34m,\u001b[0m\u001b[0;34m\"ollé\"\u001b[0m\u001b[0;34m,\u001b[0m\u001b[0;34m\"olé\"\u001b[0m\u001b[0;34m,\u001b[0m\u001b[0;34m\"on\"\u001b[0m\u001b[0;34m,\u001b[0m\u001b[0;34m\"ont\"\u001b[0m\u001b[0;34m,\u001b[0m\u001b[0;34m\"onze\"\u001b[0m\u001b[0;34m,\u001b[0m\u001b[0;34m\"onzième\"\u001b[0m\u001b[0;34m,\u001b[0m\u001b[0;34m\"ore\"\u001b[0m\u001b[0;34m,\u001b[0m\u001b[0;34m\"ou\"\u001b[0m\u001b[0;34m,\u001b[0m\u001b[0;34m\"ouf\"\u001b[0m\u001b[0;34m,\u001b[0m\u001b[0;34m\"ouias\"\u001b[0m\u001b[0;34m,\u001b[0m\u001b[0;34m\"oust\"\u001b[0m\u001b[0;34m,\u001b[0m\u001b[0;34m\"ouste\"\u001b[0m\u001b[0;34m,\u001b[0m\u001b[0;34m\"outre\"\u001b[0m\u001b[0;34m,\u001b[0m\u001b[0;34m\"ouvert\"\u001b[0m\u001b[0;34m,\u001b[0m\u001b[0;34m\"ouverte\"\u001b[0m\u001b[0;34m,\u001b[0m\u001b[0;34m\"ouverts\"\u001b[0m\u001b[0;34m,\u001b[0m\u001b[0;34m\"o|\"\u001b[0m\u001b[0;34m,\u001b[0m\u001b[0;34m\"où\"\u001b[0m\u001b[0;34m,\u001b[0m\u001b[0;34m\"p\"\u001b[0m\u001b[0;34m,\u001b[0m\u001b[0;34m\"paf\"\u001b[0m\u001b[0;34m,\u001b[0m\u001b[0;34m\"pan\"\u001b[0m\u001b[0;34m,\u001b[0m\u001b[0;34m\"par\"\u001b[0m\u001b[0;34m,\u001b[0m\u001b[0;34m\"parce\"\u001b[0m\u001b[0;34m,\u001b[0m\u001b[0;34m\"parfois\"\u001b[0m\u001b[0;34m,\u001b[0m\u001b[0;34m\"parle\"\u001b[0m\u001b[0;34m,\u001b[0m\u001b[0;34m\"parlent\"\u001b[0m\u001b[0;34m,\u001b[0m\u001b[0;34m\"parler\"\u001b[0m\u001b[0;34m,\u001b[0m\u001b[0;34m\"parmi\"\u001b[0m\u001b[0;34m,\u001b[0m\u001b[0;34m\"parole\"\u001b[0m\u001b[0;34m,\u001b[0m\u001b[0;34m\"parseme\"\u001b[0m\u001b[0;34m,\u001b[0m\u001b[0;34m\"partant\"\u001b[0m\u001b[0;34m,\u001b[0m\u001b[0;34m\"particulier\"\u001b[0m\u001b[0;34m,\u001b[0m\u001b[0;34m\"particulière\"\u001b[0m\u001b[0;34m,\u001b[0m\u001b[0;34m\"particulièrement\"\u001b[0m\u001b[0;34m,\u001b[0m\u001b[0;34m\"pas\"\u001b[0m\u001b[0;34m,\u001b[0m\u001b[0;34m\"passé\"\u001b[0m\u001b[0;34m,\u001b[0m\u001b[0;34m\"pendant\"\u001b[0m\u001b[0;34m,\u001b[0m\u001b[0;34m\"pense\"\u001b[0m\u001b[0;34m,\u001b[0m\u001b[0;34m\"permet\"\u001b[0m\u001b[0;34m,\u001b[0m\u001b[0;34m\"personne\"\u001b[0m\u001b[0;34m,\u001b[0m\u001b[0;34m\"personnes\"\u001b[0m\u001b[0;34m,\u001b[0m\u001b[0;34m\"peu\"\u001b[0m\u001b[0;34m,\u001b[0m\u001b[0;34m\"peut\"\u001b[0m\u001b[0;34m,\u001b[0m\u001b[0;34m\"peuvent\"\u001b[0m\u001b[0;34m,\u001b[0m\u001b[0;34m\"peux\"\u001b[0m\u001b[0;34m,\u001b[0m\u001b[0;34m\"pff\"\u001b[0m\u001b[0;34m,\u001b[0m\u001b[0;34m\"pfft\"\u001b[0m\u001b[0;34m,\u001b[0m\u001b[0;34m\"pfut\"\u001b[0m\u001b[0;34m,\u001b[0m\u001b[0;34m\"pif\"\u001b[0m\u001b[0;34m,\u001b[0m\u001b[0;34m\"pire\"\u001b[0m\u001b[0;34m,\u001b[0m\u001b[0;34m\"pièce\"\u001b[0m\u001b[0;34m,\u001b[0m\u001b[0;34m\"plein\"\u001b[0m\u001b[0;34m,\u001b[0m\u001b[0;34m\"plouf\"\u001b[0m\u001b[0;34m,\u001b[0m\u001b[0;34m\"plupart\"\u001b[0m\u001b[0;34m,\u001b[0m\u001b[0;34m\"plus\"\u001b[0m\u001b[0;34m,\u001b[0m\u001b[0;34m\"plusieurs\"\u001b[0m\u001b[0;34m,\u001b[0m\u001b[0;34m\"plutôt\"\u001b[0m\u001b[0;34m,\u001b[0m\u001b[0;34m\"possessif\"\u001b[0m\u001b[0;34m,\u001b[0m\u001b[0;34m\"possessifs\"\u001b[0m\u001b[0;34m,\u001b[0m\u001b[0;34m\"possible\"\u001b[0m\u001b[0;34m,\u001b[0m\u001b[0;34m\"possibles\"\u001b[0m\u001b[0;34m,\u001b[0m\u001b[0;34m\"pouah\"\u001b[0m\u001b[0;34m,\u001b[0m\u001b[0;34m\"pour\"\u001b[0m\u001b[0;34m,\u001b[0m\u001b[0;34m\"pourquoi\"\u001b[0m\u001b[0;34m,\u001b[0m\u001b[0;34m\"pourrais\"\u001b[0m\u001b[0;34m,\u001b[0m\u001b[0;34m\"pourrait\"\u001b[0m\u001b[0;34m,\u001b[0m\u001b[0;34m\"pouvait\"\u001b[0m\u001b[0;34m,\u001b[0m\u001b[0;34m\"prealable\"\u001b[0m\u001b[0;34m,\u001b[0m\u001b[0;34m\"precisement\"\u001b[0m\u001b[0;34m,\u001b[0m\u001b[0;34m\"premier\"\u001b[0m\u001b[0;34m,\u001b[0m\u001b[0;34m\"première\"\u001b[0m\u001b[0;34m,\u001b[0m\u001b[0;34m\"premièrement\"\u001b[0m\u001b[0;34m,\u001b[0m\u001b[0;34m\"pres\"\u001b[0m\u001b[0;34m,\u001b[0m\u001b[0;34m\"probable\"\u001b[0m\u001b[0;34m,\u001b[0m\u001b[0;34m\"probante\"\u001b[0m\u001b[0;34m,\u001b[0m\u001b[0;34m\"procedant\"\u001b[0m\u001b[0;34m,\u001b[0m\u001b[0;34m\"proche\"\u001b[0m\u001b[0;34m,\u001b[0m\u001b[0;34m\"près\"\u001b[0m\u001b[0;34m,\u001b[0m\u001b[0;34m\"psitt\"\u001b[0m\u001b[0;34m,\u001b[0m\u001b[0;34m\"pu\"\u001b[0m\u001b[0;34m,\u001b[0m\u001b[0;34m\"puis\"\u001b[0m\u001b[0;34m,\u001b[0m\u001b[0;34m\"puisque\"\u001b[0m\u001b[0;34m,\u001b[0m\u001b[0;34m\"pur\"\u001b[0m\u001b[0;34m,\u001b[0m\u001b[0;34m\"pure\"\u001b[0m\u001b[0;34m,\u001b[0m\u001b[0;34m\"q\"\u001b[0m\u001b[0;34m,\u001b[0m\u001b[0;34m\"qu\"\u001b[0m\u001b[0;34m,\u001b[0m\u001b[0;34m\"quand\"\u001b[0m\u001b[0;34m,\u001b[0m\u001b[0;34m\"quant\"\u001b[0m\u001b[0;34m,\u001b[0m\u001b[0;34m\"quant-à-soi\"\u001b[0m\u001b[0;34m,\u001b[0m\u001b[0;34m\"quanta\"\u001b[0m\u001b[0;34m,\u001b[0m\u001b[0;34m\"quarante\"\u001b[0m\u001b[0;34m,\u001b[0m\u001b[0;34m\"quatorze\"\u001b[0m\u001b[0;34m,\u001b[0m\u001b[0;34m\"quatre\"\u001b[0m\u001b[0;34m,\u001b[0m\u001b[0;34m\"quatre-vingt\"\u001b[0m\u001b[0;34m,\u001b[0m\u001b[0;34m\"quatrième\"\u001b[0m\u001b[0;34m,\u001b[0m\u001b[0;34m\"quatrièmement\"\u001b[0m\u001b[0;34m,\u001b[0m\u001b[0;34m\"que\"\u001b[0m\u001b[0;34m,\u001b[0m\u001b[0;34m\"quel\"\u001b[0m\u001b[0;34m,\u001b[0m\u001b[0;34m\"quelconque\"\u001b[0m\u001b[0;34m,\u001b[0m\u001b[0;34m\"quelle\"\u001b[0m\u001b[0;34m,\u001b[0m\u001b[0;34m\"quelles\"\u001b[0m\u001b[0;34m,\u001b[0m\u001b[0;34m\"quelqu'un\"\u001b[0m\u001b[0;34m,\u001b[0m\u001b[0;34m\"quelque\"\u001b[0m\u001b[0;34m,\u001b[0m\u001b[0;34m\"quelques\"\u001b[0m\u001b[0;34m,\u001b[0m\u001b[0;34m\"quels\"\u001b[0m\u001b[0;34m,\u001b[0m\u001b[0;34m\"qui\"\u001b[0m\u001b[0;34m,\u001b[0m\u001b[0;34m\"quiconque\"\u001b[0m\u001b[0;34m,\u001b[0m\u001b[0;34m\"quinze\"\u001b[0m\u001b[0;34m,\u001b[0m\u001b[0;34m\"quoi\"\u001b[0m\u001b[0;34m,\u001b[0m\u001b[0;34m\"quoique\"\u001b[0m\u001b[0;34m,\u001b[0m\u001b[0;34m\"r\"\u001b[0m\u001b[0;34m,\u001b[0m\u001b[0;34m\"rare\"\u001b[0m\u001b[0;34m,\u001b[0m\u001b[0;34m\"rarement\"\u001b[0m\u001b[0;34m,\u001b[0m\u001b[0;34m\"rares\"\u001b[0m\u001b[0;34m,\u001b[0m\u001b[0;34m\"relative\"\u001b[0m\u001b[0;34m,\u001b[0m\u001b[0;34m\"relativement\"\u001b[0m\u001b[0;34m,\u001b[0m\u001b[0;34m\"remarquable\"\u001b[0m\u001b[0;34m,\u001b[0m\u001b[0;34m\"rend\"\u001b[0m\u001b[0;34m,\u001b[0m\u001b[0;34m\"rendre\"\u001b[0m\u001b[0;34m,\u001b[0m\u001b[0;34m\"restant\"\u001b[0m\u001b[0;34m,\u001b[0m\u001b[0;34m\"reste\"\u001b[0m\u001b[0;34m,\u001b[0m\u001b[0;34m\"restent\"\u001b[0m\u001b[0;34m,\u001b[0m\u001b[0;34m\"restrictif\"\u001b[0m\u001b[0;34m,\u001b[0m\u001b[0;34m\"retour\"\u001b[0m\u001b[0;34m,\u001b[0m\u001b[0;34m\"revoici\"\u001b[0m\u001b[0;34m,\u001b[0m\u001b[0;34m\"revoilà\"\u001b[0m\u001b[0;34m,\u001b[0m\u001b[0;34m\"rien\"\u001b[0m\u001b[0;34m,\u001b[0m\u001b[0;34m\"s\"\u001b[0m\u001b[0;34m,\u001b[0m\u001b[0;34m\"sa\"\u001b[0m\u001b[0;34m,\u001b[0m\u001b[0;34m\"sacrebleu\"\u001b[0m\u001b[0;34m,\u001b[0m\u001b[0;34m\"sait\"\u001b[0m\u001b[0;34m,\u001b[0m\u001b[0;34m\"sans\"\u001b[0m\u001b[0;34m,\u001b[0m\u001b[0;34m\"sapristi\"\u001b[0m\u001b[0;34m,\u001b[0m\u001b[0;34m\"sauf\"\u001b[0m\u001b[0;34m,\u001b[0m\u001b[0;34m\"se\"\u001b[0m\u001b[0;34m,\u001b[0m\u001b[0;34m\"sein\"\u001b[0m\u001b[0;34m,\u001b[0m\u001b[0;34m\"seize\"\u001b[0m\u001b[0;34m,\u001b[0m\u001b[0;34m\"selon\"\u001b[0m\u001b[0;34m,\u001b[0m\u001b[0;34m\"semblable\"\u001b[0m\u001b[0;34m,\u001b[0m\u001b[0;34m\"semblaient\"\u001b[0m\u001b[0;34m,\u001b[0m\u001b[0;34m\"semble\"\u001b[0m\u001b[0;34m,\u001b[0m\u001b[0;34m\"semblent\"\u001b[0m\u001b[0;34m,\u001b[0m\u001b[0;34m\"sent\"\u001b[0m\u001b[0;34m,\u001b[0m\u001b[0;34m\"sept\"\u001b[0m\u001b[0;34m,\u001b[0m\u001b[0;34m\"septième\"\u001b[0m\u001b[0;34m,\u001b[0m\u001b[0;34m\"sera\"\u001b[0m\u001b[0;34m,\u001b[0m\u001b[0;34m\"serai\"\u001b[0m\u001b[0;34m,\u001b[0m\u001b[0;34m\"seraient\"\u001b[0m\u001b[0;34m,\u001b[0m\u001b[0;34m\"serais\"\u001b[0m\u001b[0;34m,\u001b[0m\u001b[0;34m\"serait\"\u001b[0m\u001b[0;34m,\u001b[0m\u001b[0;34m\"seras\"\u001b[0m\u001b[0;34m,\u001b[0m\u001b[0;34m\"serez\"\u001b[0m\u001b[0;34m,\u001b[0m\u001b[0;34m\"seriez\"\u001b[0m\u001b[0;34m,\u001b[0m\u001b[0;34m\"serions\"\u001b[0m\u001b[0;34m,\u001b[0m\u001b[0;34m\"serons\"\u001b[0m\u001b[0;34m,\u001b[0m\u001b[0;34m\"seront\"\u001b[0m\u001b[0;34m,\u001b[0m\u001b[0;34m\"ses\"\u001b[0m\u001b[0;34m,\u001b[0m\u001b[0;34m\"seul\"\u001b[0m\u001b[0;34m,\u001b[0m\u001b[0;34m\"seule\"\u001b[0m\u001b[0;34m,\u001b[0m\u001b[0;34m\"seulement\"\u001b[0m\u001b[0;34m,\u001b[0m\u001b[0;34m\"si\"\u001b[0m\u001b[0;34m,\u001b[0m\u001b[0;34m\"sien\"\u001b[0m\u001b[0;34m,\u001b[0m\u001b[0;34m\"sienne\"\u001b[0m\u001b[0;34m,\u001b[0m\u001b[0;34m\"siennes\"\u001b[0m\u001b[0;34m,\u001b[0m\u001b[0;34m\"siens\"\u001b[0m\u001b[0;34m,\u001b[0m\u001b[0;34m\"sinon\"\u001b[0m\u001b[0;34m,\u001b[0m\u001b[0;34m\"six\"\u001b[0m\u001b[0;34m,\u001b[0m\u001b[0;34m\"sixième\"\u001b[0m\u001b[0;34m,\u001b[0m\u001b[0;34m\"soi\"\u001b[0m\u001b[0;34m,\u001b[0m\u001b[0;34m\"soi-même\"\u001b[0m\u001b[0;34m,\u001b[0m\u001b[0;34m\"soient\"\u001b[0m\u001b[0;34m,\u001b[0m\u001b[0;34m\"sois\"\u001b[0m\u001b[0;34m,\u001b[0m\u001b[0;34m\"soit\"\u001b[0m\u001b[0;34m,\u001b[0m\u001b[0;34m\"soixante\"\u001b[0m\u001b[0;34m,\u001b[0m\u001b[0;34m\"sommes\"\u001b[0m\u001b[0;34m,\u001b[0m\u001b[0;34m\"son\"\u001b[0m\u001b[0;34m,\u001b[0m\u001b[0;34m\"sont\"\u001b[0m\u001b[0;34m,\u001b[0m\u001b[0;34m\"sous\"\u001b[0m\u001b[0;34m,\u001b[0m\u001b[0;34m\"souvent\"\u001b[0m\u001b[0;34m,\u001b[0m\u001b[0;34m\"soyez\"\u001b[0m\u001b[0;34m,\u001b[0m\u001b[0;34m\"soyons\"\u001b[0m\u001b[0;34m,\u001b[0m\u001b[0;34m\"specifique\"\u001b[0m\u001b[0;34m,\u001b[0m\u001b[0;34m\"specifiques\"\u001b[0m\u001b[0;34m,\u001b[0m\u001b[0;34m\"speculatif\"\u001b[0m\u001b[0;34m,\u001b[0m\u001b[0;34m\"stop\"\u001b[0m\u001b[0;34m,\u001b[0m\u001b[0;34m\"strictement\"\u001b[0m\u001b[0;34m,\u001b[0m\u001b[0;34m\"subtiles\"\u001b[0m\u001b[0;34m,\u001b[0m\u001b[0;34m\"suffisant\"\u001b[0m\u001b[0;34m,\u001b[0m\u001b[0;34m\"suffisante\"\u001b[0m\u001b[0;34m,\u001b[0m\u001b[0;34m\"suffit\"\u001b[0m\u001b[0;34m,\u001b[0m\u001b[0;34m\"suis\"\u001b[0m\u001b[0;34m,\u001b[0m\u001b[0;34m\"suit\"\u001b[0m\u001b[0;34m,\u001b[0m\u001b[0;34m\"suivant\"\u001b[0m\u001b[0;34m,\u001b[0m\u001b[0;34m\"suivante\"\u001b[0m\u001b[0;34m,\u001b[0m\u001b[0;34m\"suivantes\"\u001b[0m\u001b[0;34m,\u001b[0m\u001b[0;34m\"suivants\"\u001b[0m\u001b[0;34m,\u001b[0m\u001b[0;34m\"suivre\"\u001b[0m\u001b[0;34m,\u001b[0m\u001b[0;34m\"sujet\"\u001b[0m\u001b[0;34m,\u001b[0m\u001b[0;34m\"superpose\"\u001b[0m\u001b[0;34m,\u001b[0m\u001b[0;34m\"sur\"\u001b[0m\u001b[0;34m,\u001b[0m\u001b[0;34m\"surtout\"\u001b[0m\u001b[0;34m,\u001b[0m\u001b[0;34m\"t\"\u001b[0m\u001b[0;34m,\u001b[0m\u001b[0;34m\"ta\"\u001b[0m\u001b[0;34m,\u001b[0m\u001b[0;34m\"tac\"\u001b[0m\u001b[0;34m,\u001b[0m\u001b[0;34m\"tandis\"\u001b[0m\u001b[0;34m,\u001b[0m\u001b[0;34m\"tant\"\u001b[0m\u001b[0;34m,\u001b[0m\u001b[0;34m\"tardive\"\u001b[0m\u001b[0;34m,\u001b[0m\u001b[0;34m\"te\"\u001b[0m\u001b[0;34m,\u001b[0m\u001b[0;34m\"tel\"\u001b[0m\u001b[0;34m,\u001b[0m\u001b[0;34m\"telle\"\u001b[0m\u001b[0;34m,\u001b[0m\u001b[0;34m\"tellement\"\u001b[0m\u001b[0;34m,\u001b[0m\u001b[0;34m\"telles\"\u001b[0m\u001b[0;34m,\u001b[0m\u001b[0;34m\"tels\"\u001b[0m\u001b[0;34m,\u001b[0m\u001b[0;34m\"tenant\"\u001b[0m\u001b[0;34m,\u001b[0m\u001b[0;34m\"tend\"\u001b[0m\u001b[0;34m,\u001b[0m\u001b[0;34m\"tenir\"\u001b[0m\u001b[0;34m,\u001b[0m\u001b[0;34m\"tente\"\u001b[0m\u001b[0;34m,\u001b[0m\u001b[0;34m\"tes\"\u001b[0m\u001b[0;34m,\u001b[0m\u001b[0;34m\"tic\"\u001b[0m\u001b[0;34m,\u001b[0m\u001b[0;34m\"tien\"\u001b[0m\u001b[0;34m,\u001b[0m\u001b[0;34m\"tienne\"\u001b[0m\u001b[0;34m,\u001b[0m\u001b[0;34m\"tiennes\"\u001b[0m\u001b[0;34m,\u001b[0m\u001b[0;34m\"tiens\"\u001b[0m\u001b[0;34m,\u001b[0m\u001b[0;34m\"toc\"\u001b[0m\u001b[0;34m,\u001b[0m\u001b[0;34m\"toi\"\u001b[0m\u001b[0;34m,\u001b[0m\u001b[0;34m\"toi-même\"\u001b[0m\u001b[0;34m,\u001b[0m\u001b[0;34m\"ton\"\u001b[0m\u001b[0;34m,\u001b[0m\u001b[0;34m\"touchant\"\u001b[0m\u001b[0;34m,\u001b[0m\u001b[0;34m\"toujours\"\u001b[0m\u001b[0;34m,\u001b[0m\u001b[0;34m\"tous\"\u001b[0m\u001b[0;34m,\u001b[0m\u001b[0;34m\"tout\"\u001b[0m\u001b[0;34m,\u001b[0m\u001b[0;34m\"toute\"\u001b[0m\u001b[0;34m,\u001b[0m\u001b[0;34m\"toutefois\"\u001b[0m\u001b[0;34m,\u001b[0m\u001b[0;34m\"toutes\"\u001b[0m\u001b[0;34m,\u001b[0m\u001b[0;34m\"treize\"\u001b[0m\u001b[0;34m,\u001b[0m\u001b[0;34m\"trente\"\u001b[0m\u001b[0;34m,\u001b[0m\u001b[0;34m\"tres\"\u001b[0m\u001b[0;34m,\u001b[0m\u001b[0;34m\"trois\"\u001b[0m\u001b[0;34m,\u001b[0m\u001b[0;34m\"troisième\"\u001b[0m\u001b[0;34m,\u001b[0m\u001b[0;34m\"troisièmement\"\u001b[0m\u001b[0;34m,\u001b[0m\u001b[0;34m\"trop\"\u001b[0m\u001b[0;34m,\u001b[0m\u001b[0;34m\"très\"\u001b[0m\u001b[0;34m,\u001b[0m\u001b[0;34m\"tsoin\"\u001b[0m\u001b[0;34m,\u001b[0m\u001b[0;34m\"tsouin\"\u001b[0m\u001b[0;34m,\u001b[0m\u001b[0;34m\"tu\"\u001b[0m\u001b[0;34m,\u001b[0m\u001b[0;34m\"té\"\u001b[0m\u001b[0;34m,\u001b[0m\u001b[0;34m\"u\"\u001b[0m\u001b[0;34m,\u001b[0m\u001b[0;34m\"un\"\u001b[0m\u001b[0;34m,\u001b[0m\u001b[0;34m\"une\"\u001b[0m\u001b[0;34m,\u001b[0m\u001b[0;34m\"unes\"\u001b[0m\u001b[0;34m,\u001b[0m\u001b[0;34m\"uniformement\"\u001b[0m\u001b[0;34m,\u001b[0m\u001b[0;34m\"unique\"\u001b[0m\u001b[0;34m,\u001b[0m\u001b[0;34m\"uniques\"\u001b[0m\u001b[0;34m,\u001b[0m\u001b[0;34m\"uns\"\u001b[0m\u001b[0;34m,\u001b[0m\u001b[0;34m\"v\"\u001b[0m\u001b[0;34m,\u001b[0m\u001b[0;34m\"va\"\u001b[0m\u001b[0;34m,\u001b[0m\u001b[0;34m\"vais\"\u001b[0m\u001b[0;34m,\u001b[0m\u001b[0;34m\"valeur\"\u001b[0m\u001b[0;34m,\u001b[0m\u001b[0;34m\"vas\"\u001b[0m\u001b[0;34m,\u001b[0m\u001b[0;34m\"vers\"\u001b[0m\u001b[0;34m,\u001b[0m\u001b[0;34m\"via\"\u001b[0m\u001b[0;34m,\u001b[0m\u001b[0;34m\"vif\"\u001b[0m\u001b[0;34m,\u001b[0m\u001b[0;34m\"vifs\"\u001b[0m\u001b[0;34m,\u001b[0m\u001b[0;34m\"vingt\"\u001b[0m\u001b[0;34m,\u001b[0m\u001b[0;34m\"vivat\"\u001b[0m\u001b[0;34m,\u001b[0m\u001b[0;34m\"vive\"\u001b[0m\u001b[0;34m,\u001b[0m\u001b[0;34m\"vives\"\u001b[0m\u001b[0;34m,\u001b[0m\u001b[0;34m\"vlan\"\u001b[0m\u001b[0;34m,\u001b[0m\u001b[0;34m\"voici\"\u001b[0m\u001b[0;34m,\u001b[0m\u001b[0;34m\"voie\"\u001b[0m\u001b[0;34m,\u001b[0m\u001b[0;34m\"voient\"\u001b[0m\u001b[0;34m,\u001b[0m\u001b[0;34m\"voilà\"\u001b[0m\u001b[0;34m,\u001b[0m\u001b[0;34m\"vont\"\u001b[0m\u001b[0;34m,\u001b[0m\u001b[0;34m\"vos\"\u001b[0m\u001b[0;34m,\u001b[0m\u001b[0;34m\"votre\"\u001b[0m\u001b[0;34m,\u001b[0m\u001b[0;34m\"vous\"\u001b[0m\u001b[0;34m,\u001b[0m\u001b[0;34m\"vous-mêmes\"\u001b[0m\u001b[0;34m,\u001b[0m\u001b[0;34m\"vu\"\u001b[0m\u001b[0;34m,\u001b[0m\u001b[0;34m\"vé\"\u001b[0m\u001b[0;34m,\u001b[0m\u001b[0;34m\"vôtre\"\u001b[0m\u001b[0;34m,\u001b[0m\u001b[0;34m\"vôtres\"\u001b[0m\u001b[0;34m,\u001b[0m\u001b[0;34m\"w\"\u001b[0m\u001b[0;34m,\u001b[0m\u001b[0;34m\"x\"\u001b[0m\u001b[0;34m,\u001b[0m\u001b[0;34m\"y\"\u001b[0m\u001b[0;34m,\u001b[0m\u001b[0;34m\"z\"\u001b[0m\u001b[0;34m,\u001b[0m\u001b[0;34m\"zut\"\u001b[0m\u001b[0;34m,\u001b[0m\u001b[0;34m\"à\"\u001b[0m\u001b[0;34m,\u001b[0m\u001b[0;34m\"â\"\u001b[0m\u001b[0;34m,\u001b[0m\u001b[0;34m\"ça\"\u001b[0m\u001b[0;34m,\u001b[0m\u001b[0;34m\"ès\"\u001b[0m\u001b[0;34m,\u001b[0m\u001b[0;34m\"étaient\"\u001b[0m\u001b[0;34m,\u001b[0m\u001b[0;34m\"étais\"\u001b[0m\u001b[0;34m,\u001b[0m\u001b[0;34m\"était\"\u001b[0m\u001b[0;34m,\u001b[0m\u001b[0;34m\"étant\"\u001b[0m\u001b[0;34m,\u001b[0m\u001b[0;34m\"état\"\u001b[0m\u001b[0;34m,\u001b[0m\u001b[0;34m\"étiez\"\u001b[0m\u001b[0;34m,\u001b[0m\u001b[0;34m\"étions\"\u001b[0m\u001b[0;34m,\u001b[0m\u001b[0;34m\"été\"\u001b[0m\u001b[0;34m,\u001b[0m\u001b[0;34m\"étée\"\u001b[0m\u001b[0;34m,\u001b[0m\u001b[0;34m\"étées\"\u001b[0m\u001b[0;34m,\u001b[0m\u001b[0;34m\"étés\"\u001b[0m\u001b[0;34m,\u001b[0m\u001b[0;34m\"êtes\"\u001b[0m\u001b[0;34m,\u001b[0m\u001b[0;34m\"être\"\u001b[0m\u001b[0;34m,\u001b[0m\u001b[0;34m\"ô\"\u001b[0m\u001b[0;34m]\u001b[0m\u001b[0;34m\u001b[0m\u001b[0m\n\u001b[1;32m      3\u001b[0m \u001b[0mstop_words\u001b[0m\u001b[0;34m+=\u001b[0m\u001b[0;34m[\u001b[0m\u001b[0;34m\"»\"\u001b[0m\u001b[0;34m,\u001b[0m\u001b[0;34m\"«\"\u001b[0m\u001b[0;34m,\u001b[0m\u001b[0;34m\"''\"\u001b[0m\u001b[0;34m,\u001b[0m\u001b[0;34m\" \"\u001b[0m\u001b[0;34m,\u001b[0m\u001b[0;34m\"–\"\u001b[0m\u001b[0;34m]\u001b[0m\u001b[0;34m\u001b[0m\u001b[0m\n\u001b[1;32m      4\u001b[0m \u001b[0mstop_words\u001b[0m\u001b[0;34m=\u001b[0m\u001b[0mset\u001b[0m\u001b[0;34m(\u001b[0m\u001b[0mstop_words\u001b[0m\u001b[0;34m)\u001b[0m\u001b[0;34m\u001b[0m\u001b[0m\n",
      "\u001b[0;31mAttributeError\u001b[0m: type object 'str' has no attribute 'maketrans'"
     ]
    }
   ],
   "source": [
    "table = str.maketrans(string.punctuation, ' '*len(string.punctuation))\n",
    "stop_words=[\"a\",\"abord\",\"absolument\",\"afin\",\"ah\",\"ai\",\"aie\",\"aient\",\"aies\",\"ailleurs\",\"ainsi\",\"ait\",\"allaient\",\"allo\",\"allons\",\"allô\",\"alors\",\"anterieur\",\"anterieure\",\"anterieures\",\"apres\",\"après\",\"as\",\"assez\",\"attendu\",\"au\",\"aucun\",\"aucune\",\"aucuns\",\"aujourd\",\"aujourd'hui\",\"aupres\",\"auquel\",\"aura\",\"aurai\",\"auraient\",\"aurais\",\"aurait\",\"auras\",\"aurez\",\"auriez\",\"aurions\",\"aurons\",\"auront\",\"aussi\",\"autre\",\"autrefois\",\"autrement\",\"autres\",\"autrui\",\"aux\",\"auxquelles\",\"auxquels\",\"avaient\",\"avais\",\"avait\",\"avant\",\"avec\",\"avez\",\"aviez\",\"avions\",\"avoir\",\"avons\",\"ayant\",\"ayez\",\"ayons\",\"b\",\"bah\",\"bas\",\"basee\",\"bat\",\"beau\",\"beaucoup\",\"bien\",\"bigre\",\"bon\",\"boum\",\"bravo\",\"brrr\",\"c\",\"car\",\"ce\",\"ceci\",\"cela\",\"celle\",\"celle-ci\",\"celle-là\",\"celles\",\"celles-ci\",\"celles-là\",\"celui\",\"celui-ci\",\"celui-là\",\"celà\",\"cent\",\"cependant\",\"certain\",\"certaine\",\"certaines\",\"certains\",\"certes\",\"ces\",\"cet\",\"cette\",\"ceux\",\"ceux-ci\",\"ceux-là\",\"chacun\",\"chacune\",\"chaque\",\"cher\",\"chers\",\"chez\",\"chiche\",\"chut\",\"chère\",\"chères\",\"ci\",\"cinq\",\"cinquantaine\",\"cinquante\",\"cinquantième\",\"cinquième\",\"clac\",\"clic\",\"combien\",\"comme\",\"comment\",\"comparable\",\"comparables\",\"compris\",\"concernant\",\"contre\",\"couic\",\"crac\",\"d\",\"da\",\"dans\",\"de\",\"debout\",\"dedans\",\"dehors\",\"deja\",\"delà\",\"depuis\",\"dernier\",\"derniere\",\"derriere\",\"derrière\",\"des\",\"desormais\",\"desquelles\",\"desquels\",\"dessous\",\"dessus\",\"deux\",\"deuxième\",\"deuxièmement\",\"devant\",\"devers\",\"devra\",\"devrait\",\"different\",\"differentes\",\"differents\",\"différent\",\"différente\",\"différentes\",\"différents\",\"dire\",\"directe\",\"directement\",\"dit\",\"dite\",\"dits\",\"divers\",\"diverse\",\"diverses\",\"dix\",\"dix-huit\",\"dix-neuf\",\"dix-sept\",\"dixième\",\"doit\",\"doivent\",\"donc\",\"dont\",\"dos\",\"douze\",\"douzième\",\"dring\",\"droite\",\"du\",\"duquel\",\"durant\",\"dès\",\"début\",\"désormais\",\"e\",\"effet\",\"egale\",\"egalement\",\"egales\",\"eh\",\"elle\",\"elle-même\",\"elles\",\"elles-mêmes\",\"en\",\"encore\",\"enfin\",\"entre\",\"envers\",\"environ\",\"es\",\"essai\",\"est\",\"et\",\"etant\",\"etc\",\"etre\",\"eu\",\"eue\",\"eues\",\"euh\",\"eurent\",\"eus\",\"eusse\",\"eussent\",\"eusses\",\"eussiez\",\"eussions\",\"eut\",\"eux\",\"eux-mêmes\",\"exactement\",\"excepté\",\"extenso\",\"exterieur\",\"eûmes\",\"eût\",\"eûtes\",\"f\",\"fais\",\"faisaient\",\"faisant\",\"fait\",\"faites\",\"façon\",\"feront\",\"fi\",\"flac\",\"floc\",\"fois\",\"font\",\"force\",\"furent\",\"fus\",\"fusse\",\"fussent\",\"fusses\",\"fussiez\",\"fussions\",\"fut\",\"fûmes\",\"fût\",\"fûtes\",\"g\",\"gens\",\"h\",\"ha\",\"haut\",\"hein\",\"hem\",\"hep\",\"hi\",\"ho\",\"holà\",\"hop\",\"hormis\",\"hors\",\"hou\",\"houp\",\"hue\",\"hui\",\"huit\",\"huitième\",\"hum\",\"hurrah\",\"hé\",\"hélas\",\"i\",\"ici\",\"il\",\"ils\",\"importe\",\"j\",\"je\",\"jusqu\",\"jusque\",\"juste\",\"k\",\"l\",\"la\",\"laisser\",\"laquelle\",\"las\",\"le\",\"lequel\",\"les\",\"lesquelles\",\"lesquels\",\"leur\",\"leurs\",\"longtemps\",\"lors\",\"lorsque\",\"lui\",\"lui-meme\",\"lui-même\",\"là\",\"lès\",\"m\",\"ma\",\"maint\",\"maintenant\",\"mais\",\"malgre\",\"malgré\",\"maximale\",\"me\",\"meme\",\"memes\",\"merci\",\"mes\",\"mien\",\"mienne\",\"miennes\",\"miens\",\"mille\",\"mince\",\"mine\",\"minimale\",\"moi\",\"moi-meme\",\"moi-même\",\"moindres\",\"moins\",\"mon\",\"mot\",\"moyennant\",\"multiple\",\"multiples\",\"même\",\"mêmes\",\"n\",\"na\",\"naturel\",\"naturelle\",\"naturelles\",\"ne\",\"neanmoins\",\"necessaire\",\"necessairement\",\"neuf\",\"neuvième\",\"ni\",\"nombreuses\",\"nombreux\",\"nommés\",\"non\",\"nos\",\"notamment\",\"notre\",\"nous\",\"nous-mêmes\",\"nouveau\",\"nouveaux\",\"nul\",\"néanmoins\",\"nôtre\",\"nôtres\",\"o\",\"oh\",\"ohé\",\"ollé\",\"olé\",\"on\",\"ont\",\"onze\",\"onzième\",\"ore\",\"ou\",\"ouf\",\"ouias\",\"oust\",\"ouste\",\"outre\",\"ouvert\",\"ouverte\",\"ouverts\",\"o|\",\"où\",\"p\",\"paf\",\"pan\",\"par\",\"parce\",\"parfois\",\"parle\",\"parlent\",\"parler\",\"parmi\",\"parole\",\"parseme\",\"partant\",\"particulier\",\"particulière\",\"particulièrement\",\"pas\",\"passé\",\"pendant\",\"pense\",\"permet\",\"personne\",\"personnes\",\"peu\",\"peut\",\"peuvent\",\"peux\",\"pff\",\"pfft\",\"pfut\",\"pif\",\"pire\",\"pièce\",\"plein\",\"plouf\",\"plupart\",\"plus\",\"plusieurs\",\"plutôt\",\"possessif\",\"possessifs\",\"possible\",\"possibles\",\"pouah\",\"pour\",\"pourquoi\",\"pourrais\",\"pourrait\",\"pouvait\",\"prealable\",\"precisement\",\"premier\",\"première\",\"premièrement\",\"pres\",\"probable\",\"probante\",\"procedant\",\"proche\",\"près\",\"psitt\",\"pu\",\"puis\",\"puisque\",\"pur\",\"pure\",\"q\",\"qu\",\"quand\",\"quant\",\"quant-à-soi\",\"quanta\",\"quarante\",\"quatorze\",\"quatre\",\"quatre-vingt\",\"quatrième\",\"quatrièmement\",\"que\",\"quel\",\"quelconque\",\"quelle\",\"quelles\",\"quelqu'un\",\"quelque\",\"quelques\",\"quels\",\"qui\",\"quiconque\",\"quinze\",\"quoi\",\"quoique\",\"r\",\"rare\",\"rarement\",\"rares\",\"relative\",\"relativement\",\"remarquable\",\"rend\",\"rendre\",\"restant\",\"reste\",\"restent\",\"restrictif\",\"retour\",\"revoici\",\"revoilà\",\"rien\",\"s\",\"sa\",\"sacrebleu\",\"sait\",\"sans\",\"sapristi\",\"sauf\",\"se\",\"sein\",\"seize\",\"selon\",\"semblable\",\"semblaient\",\"semble\",\"semblent\",\"sent\",\"sept\",\"septième\",\"sera\",\"serai\",\"seraient\",\"serais\",\"serait\",\"seras\",\"serez\",\"seriez\",\"serions\",\"serons\",\"seront\",\"ses\",\"seul\",\"seule\",\"seulement\",\"si\",\"sien\",\"sienne\",\"siennes\",\"siens\",\"sinon\",\"six\",\"sixième\",\"soi\",\"soi-même\",\"soient\",\"sois\",\"soit\",\"soixante\",\"sommes\",\"son\",\"sont\",\"sous\",\"souvent\",\"soyez\",\"soyons\",\"specifique\",\"specifiques\",\"speculatif\",\"stop\",\"strictement\",\"subtiles\",\"suffisant\",\"suffisante\",\"suffit\",\"suis\",\"suit\",\"suivant\",\"suivante\",\"suivantes\",\"suivants\",\"suivre\",\"sujet\",\"superpose\",\"sur\",\"surtout\",\"t\",\"ta\",\"tac\",\"tandis\",\"tant\",\"tardive\",\"te\",\"tel\",\"telle\",\"tellement\",\"telles\",\"tels\",\"tenant\",\"tend\",\"tenir\",\"tente\",\"tes\",\"tic\",\"tien\",\"tienne\",\"tiennes\",\"tiens\",\"toc\",\"toi\",\"toi-même\",\"ton\",\"touchant\",\"toujours\",\"tous\",\"tout\",\"toute\",\"toutefois\",\"toutes\",\"treize\",\"trente\",\"tres\",\"trois\",\"troisième\",\"troisièmement\",\"trop\",\"très\",\"tsoin\",\"tsouin\",\"tu\",\"té\",\"u\",\"un\",\"une\",\"unes\",\"uniformement\",\"unique\",\"uniques\",\"uns\",\"v\",\"va\",\"vais\",\"valeur\",\"vas\",\"vers\",\"via\",\"vif\",\"vifs\",\"vingt\",\"vivat\",\"vive\",\"vives\",\"vlan\",\"voici\",\"voie\",\"voient\",\"voilà\",\"vont\",\"vos\",\"votre\",\"vous\",\"vous-mêmes\",\"vu\",\"vé\",\"vôtre\",\"vôtres\",\"w\",\"x\",\"y\",\"z\",\"zut\",\"à\",\"â\",\"ça\",\"ès\",\"étaient\",\"étais\",\"était\",\"étant\",\"état\",\"étiez\",\"étions\",\"été\",\"étée\",\"étées\",\"étés\",\"êtes\",\"être\",\"ô\"]\n",
    "stop_words+=[\"»\",\"«\",\"''\",\" \",\"–\"]\n",
    "stop_words=set(stop_words)"
   ]
  },
  {
   "cell_type": "code",
   "execution_count": 5,
   "metadata": {},
   "outputs": [],
   "source": [
    "def get_vector_word2vec(text):\n",
    "#     word_tokens = word_tokenize(text.lower())\n",
    "    word_tokens= text.lower().split(' ')\n",
    "    filtered_sentence = [model[w] for w in word_tokens if (not w in stop_words and model.__contains__(w))]\n",
    "    return np.mean(filtered_sentence,axis=0)"
   ]
  },
  {
   "cell_type": "code",
   "execution_count": 7,
   "metadata": {},
   "outputs": [],
   "source": [
    "index = faiss.IndexFlatL2(200)   # build the index\n",
    "# quantizer = faiss.IndexLSH(200,8)\n",
    "# index = faiss.IndexIVFPQ(quantizer, 200, 100, 8, 8)\n",
    "# index = faiss.IndexPQ(200,8,8)"
   ]
  },
  {
   "cell_type": "code",
   "execution_count": 8,
   "metadata": {},
   "outputs": [
    {
     "name": "stderr",
     "output_type": "stream",
     "text": [
      "/usr/local/lib/python2.7/dist-packages/numpy/core/fromnumeric.py:2920: RuntimeWarning: Mean of empty slice.\n",
      "  out=out, **kwargs)\n",
      "/usr/local/lib/python2.7/dist-packages/numpy/core/_methods.py:85: RuntimeWarning: invalid value encountered in double_scalars\n",
      "  ret = ret.dtype.type(ret / rcount)\n"
     ]
    },
    {
     "name": "stdout",
     "output_type": "stream",
     "text": [
      "adding\n",
      "training\n",
      "end training\n",
      "end adding\n",
      "0\n",
      "adding\n",
      "end adding\n",
      "1\n",
      "2\n",
      "3\n",
      "adding\n",
      "end adding\n",
      "4\n",
      "adding\n",
      "end adding\n",
      "adding\n",
      "end adding\n",
      "5\n"
     ]
    }
   ],
   "source": [
    "# %%cython -a\n",
    "\n",
    "def upper_sentence(sentence):\n",
    "    if len(sentence)>1:\n",
    "        return sentence[0].upper()+sentence[1:]\n",
    "    if len(sentence)==1:\n",
    "        return sentence[0].upper() \n",
    "    return sentence\n",
    "\n",
    "def remove_tag(text):\n",
    "    cleanr = re.compile('<.*?>')\n",
    "    cleantext = re.sub(cleanr, '', text)\n",
    "    return cleantext\n",
    "\n",
    "path='/home/gabriel/Documents/MPRI/Web_Data_Management/wikiextractor-master/text/'\n",
    "title_list=[]\n",
    "text_list=[]\n",
    "title_dic={}\n",
    "title_dic_inverse={}\n",
    "text_dic={}\n",
    "link_dic={}\n",
    "location_dic={}\n",
    "wv_dic={}\n",
    "www_adress={}\n",
    "lala=[]\n",
    "dataset=[]\n",
    "count=0\n",
    "count2=0\n",
    "for w,i in enumerate(os.listdir(path)):\n",
    "#     if w in [0,1,2,3]:\n",
    "#         continue\n",
    "    for j in os.listdir(path+i):\n",
    "        for filename in os.listdir(path+i+'/'+j):\n",
    "#             print(path,i,j)\n",
    "            with open(path+i+'/'+j+'/'+filename) as f:\n",
    "                lines = [line.rstrip('\\n') for line in f]\n",
    "#             for line in open(path+i+'/'+j+'/'+filename, 'r'):\n",
    "            for line in lines:\n",
    "                a=json.loads(line)\n",
    "                if 'text' in a:\n",
    "                    tmp=get_vector_word2vec(a['text']).astype(\"float32\")\n",
    "                    if type(tmp)==np.ndarray:                   \n",
    "#                     ta=time.time()\n",
    "#                         title_dic[a['id']]=a['title']\n",
    "    #                     title_dic_inverse[a['title']]=a['id']\n",
    "    #                     location_dic[a['id']]=path+i+'/'+j+'/'+filename\n",
    "#                         www_adress[a['id']]=a['url']\n",
    "    #                     tb=time.time()\n",
    "#                         text_dic[a['id']]=remove_tag(a['text'][:200])\n",
    "    #                     urls=re.findall(r'href=[\\'\"]?([^\\'\" >]+)', a['text'])\n",
    "    #                     tc=time.time()\n",
    "    #                     title_list_iri=[upper_sentence(unquote(s)) for s in urls]\n",
    "    #                     link_dic[a['id']]=title_list_iri\n",
    "    #                     td=time.time()\n",
    "#                         wv_dic[a['id']]=tmp.reshape(1,-1)\n",
    "                        lala.append(tmp.reshape(1,-1))\n",
    "#                         index.add(wv_dic[a['id']])\n",
    "                        dataset.append([a['id'],a['title'],a['url'],remove_tag(a['text'][:200])])\n",
    "                        count+=1\n",
    "                        if count%200000==0:\n",
    "                            print(\"adding\")\n",
    "                            lala=np.array(lala)[:,0,:]\n",
    "                            if count2==0:\n",
    "                                print('training')\n",
    "#                                 index.train(lala)\n",
    "                                print('end training')\n",
    "                                count2=1\n",
    "                            index.add(lala)\n",
    "                            lala=[]\n",
    "                            count=0\n",
    "                            print('end adding')\n",
    "    print(w)\n",
    "    if w==5:\n",
    "        break\n",
    "        \n",
    "# for key,value in link_dic.items():\n",
    "#     id_list= [title_dic_inverse[i] for i in value if i in title_dic_inverse]\n",
    "#     link_dic[key]=id_list"
   ]
  },
  {
   "cell_type": "code",
   "execution_count": 66,
   "metadata": {},
   "outputs": [],
   "source": [
    "lala=np.array(lala)[:,0,:]"
   ]
  },
  {
   "cell_type": "code",
   "execution_count": 66,
   "metadata": {},
   "outputs": [],
   "source": [
    "from sklearn.feature_extraction.text import TfidfVectorizer"
   ]
  },
  {
   "cell_type": "code",
   "execution_count": 68,
   "metadata": {},
   "outputs": [
    {
     "ename": "ValueError",
     "evalue": "Iterable over raw text documents expected, string object received.",
     "output_type": "error",
     "traceback": [
      "\u001b[0;31m---------------------------------------------------------------------------\u001b[0m",
      "\u001b[0;31mValueError\u001b[0m                                Traceback (most recent call last)",
      "\u001b[0;32m<ipython-input-68-a426d5dded29>\u001b[0m in \u001b[0;36m<module>\u001b[0;34m()\u001b[0m\n\u001b[1;32m      1\u001b[0m \u001b[0mvectorizer\u001b[0m \u001b[0;34m=\u001b[0m \u001b[0mTfidfVectorizer\u001b[0m\u001b[0;34m(\u001b[0m\u001b[0;34m)\u001b[0m\u001b[0;34m\u001b[0m\u001b[0m\n\u001b[0;32m----> 2\u001b[0;31m \u001b[0mvectorizer\u001b[0m\u001b[0;34m.\u001b[0m\u001b[0mfit_transform\u001b[0m\u001b[0;34m(\u001b[0m\u001b[0mdataset\u001b[0m\u001b[0;34m[\u001b[0m\u001b[0;36m5\u001b[0m\u001b[0;34m]\u001b[0m\u001b[0;34m[\u001b[0m\u001b[0;34m-\u001b[0m\u001b[0;36m1\u001b[0m\u001b[0;34m]\u001b[0m\u001b[0;34m)\u001b[0m\u001b[0;34m\u001b[0m\u001b[0m\n\u001b[0m",
      "\u001b[0;32m/usr/local/lib/python2.7/dist-packages/sklearn/feature_extraction/text.pyc\u001b[0m in \u001b[0;36mfit_transform\u001b[0;34m(self, raw_documents, y)\u001b[0m\n\u001b[1;32m   1601\u001b[0m         \"\"\"\n\u001b[1;32m   1602\u001b[0m         \u001b[0mself\u001b[0m\u001b[0;34m.\u001b[0m\u001b[0m_check_params\u001b[0m\u001b[0;34m(\u001b[0m\u001b[0;34m)\u001b[0m\u001b[0;34m\u001b[0m\u001b[0m\n\u001b[0;32m-> 1603\u001b[0;31m         \u001b[0mX\u001b[0m \u001b[0;34m=\u001b[0m \u001b[0msuper\u001b[0m\u001b[0;34m(\u001b[0m\u001b[0mTfidfVectorizer\u001b[0m\u001b[0;34m,\u001b[0m \u001b[0mself\u001b[0m\u001b[0;34m)\u001b[0m\u001b[0;34m.\u001b[0m\u001b[0mfit_transform\u001b[0m\u001b[0;34m(\u001b[0m\u001b[0mraw_documents\u001b[0m\u001b[0;34m)\u001b[0m\u001b[0;34m\u001b[0m\u001b[0m\n\u001b[0m\u001b[1;32m   1604\u001b[0m         \u001b[0mself\u001b[0m\u001b[0;34m.\u001b[0m\u001b[0m_tfidf\u001b[0m\u001b[0;34m.\u001b[0m\u001b[0mfit\u001b[0m\u001b[0;34m(\u001b[0m\u001b[0mX\u001b[0m\u001b[0;34m)\u001b[0m\u001b[0;34m\u001b[0m\u001b[0m\n\u001b[1;32m   1605\u001b[0m         \u001b[0;31m# X is already a transformed view of raw_documents so\u001b[0m\u001b[0;34m\u001b[0m\u001b[0;34m\u001b[0m\u001b[0m\n",
      "\u001b[0;32m/usr/local/lib/python2.7/dist-packages/sklearn/feature_extraction/text.pyc\u001b[0m in \u001b[0;36mfit_transform\u001b[0;34m(self, raw_documents, y)\u001b[0m\n\u001b[1;32m   1020\u001b[0m         \u001b[0;32mif\u001b[0m \u001b[0misinstance\u001b[0m\u001b[0;34m(\u001b[0m\u001b[0mraw_documents\u001b[0m\u001b[0;34m,\u001b[0m \u001b[0msix\u001b[0m\u001b[0;34m.\u001b[0m\u001b[0mstring_types\u001b[0m\u001b[0;34m)\u001b[0m\u001b[0;34m:\u001b[0m\u001b[0;34m\u001b[0m\u001b[0m\n\u001b[1;32m   1021\u001b[0m             raise ValueError(\n\u001b[0;32m-> 1022\u001b[0;31m                 \u001b[0;34m\"Iterable over raw text documents expected, \"\u001b[0m\u001b[0;34m\u001b[0m\u001b[0m\n\u001b[0m\u001b[1;32m   1023\u001b[0m                 \"string object received.\")\n\u001b[1;32m   1024\u001b[0m \u001b[0;34m\u001b[0m\u001b[0m\n",
      "\u001b[0;31mValueError\u001b[0m: Iterable over raw text documents expected, string object received."
     ]
    }
   ],
   "source": [
    "vectorizer = TfidfVectorizer()\n",
    "vectorizer.fit_transform(dataset[5][-1])"
   ]
  },
  {
   "cell_type": "code",
   "execution_count": 68,
   "metadata": {},
   "outputs": [],
   "source": [
    "index.train(lala)"
   ]
  },
  {
   "cell_type": "code",
   "execution_count": 87,
   "metadata": {},
   "outputs": [
    {
     "data": {
      "text/plain": [
       "1216026"
      ]
     },
     "execution_count": 87,
     "metadata": {},
     "output_type": "execute_result"
    }
   ],
   "source": [
    "len(wv_dic)"
   ]
  },
  {
   "cell_type": "code",
   "execution_count": 9,
   "metadata": {},
   "outputs": [],
   "source": [
    "def generator_dataframe():\n",
    "    for key,value in wv_dic.items():\n",
    "        if type(value)==np.ndarray:\n",
    "            yield [key,title_dic[key],www_adress[key]]+value.tolist()"
   ]
  },
  {
   "cell_type": "code",
   "execution_count": 10,
   "metadata": {},
   "outputs": [],
   "source": [
    "df_generator=generator_dataframe()"
   ]
  },
  {
   "cell_type": "code",
   "execution_count": 11,
   "metadata": {},
   "outputs": [],
   "source": [
    "df=[]\n",
    "for i in df_generator:\n",
    "    df.append(i)"
   ]
  },
  {
   "cell_type": "code",
   "execution_count": 13,
   "metadata": {},
   "outputs": [],
   "source": [
    "df=pd.DataFrame(df)\n",
    "df=df.set_index(keys=0)"
   ]
  },
  {
   "cell_type": "code",
   "execution_count": 15,
   "metadata": {},
   "outputs": [
    {
     "data": {
      "text/plain": [
       "u'/home/gabriel/Documents/MPRI/Web_Data_Management/wikiextractor-master'"
      ]
     },
     "execution_count": 15,
     "metadata": {},
     "output_type": "execute_result"
    }
   ],
   "source": [
    "%pwd"
   ]
  },
  {
   "cell_type": "code",
   "execution_count": 16,
   "metadata": {},
   "outputs": [
    {
     "name": "stdout",
     "output_type": "stream",
     "text": [
      "/home/gabriel/Documents/MPRI/Web_Data_Management/wikiextractor-master/faiss/python\n"
     ]
    }
   ],
   "source": [
    "cd faiss/python/"
   ]
  },
  {
   "cell_type": "code",
   "execution_count": 17,
   "metadata": {},
   "outputs": [],
   "source": [
    "import faiss"
   ]
  },
  {
   "cell_type": "code",
   "execution_count": 39,
   "metadata": {},
   "outputs": [
    {
     "data": {
      "text/plain": [
       "dtype('float64')"
      ]
     },
     "execution_count": 39,
     "metadata": {},
     "output_type": "execute_result"
    }
   ],
   "source": [
    "df.iloc[:,3:].values.dtype"
   ]
  },
  {
   "cell_type": "code",
   "execution_count": 18,
   "metadata": {},
   "outputs": [
    {
     "name": "stdout",
     "output_type": "stream",
     "text": [
      "True\n",
      "466590\n"
     ]
    }
   ],
   "source": [
    "index = faiss.IndexFlatL2(200)   # build the index\n",
    "print(index.is_trained)\n",
    "a=np.ascontiguousarray(df.iloc[:,2:].values.astype(\"float32\"))\n",
    "index.add(a)                  # add vectors to the index\n",
    "print(index.ntotal)"
   ]
  },
  {
   "cell_type": "code",
   "execution_count": 63,
   "metadata": {},
   "outputs": [],
   "source": [
    "phrase=\"meuble dossier personne roulette\""
   ]
  },
  {
   "cell_type": "code",
   "execution_count": 64,
   "metadata": {},
   "outputs": [
    {
     "name": "stdout",
     "output_type": "stream",
     "text": [
      "0.130630970001\n",
      "[[344798 107041 772656 129908 713839 492596 755533 276190 612750  80587]]\n",
      "[[1.1811345 1.1873939 1.2678041 1.270553  1.2805052 1.3006775 1.3388503\n",
      "  1.3516905 1.3552365 1.3585228]]\n"
     ]
    }
   ],
   "source": [
    "a=time.time()\n",
    "k = 10                          # we want to see 4 nearest neighbors\n",
    "D, I = index.search(np.mean([model[i] for i in phrase.split(\" \")],axis=0).reshape(1,-1), k) # sanity check\n",
    "b=time.time()\n",
    "print(b-a)\n",
    "print(I)\n",
    "print(D)"
   ]
  },
  {
   "cell_type": "code",
   "execution_count": 59,
   "metadata": {},
   "outputs": [
    {
     "name": "stdout",
     "output_type": "stream",
     "text": [
      "[u'507522', u'Chaise', u'https://fr.wikipedia.org/wiki?curid=507522', u\"Chaise\\n\\nUne chaise est un type de si\\xe8ge, c'est-\\xe0-dire de meuble muni d\\u2019un dossier et destin\\xe9 \\xe0 ce qu\\u2019une personne s\\u2019assoie dessus. Un si\\xe8ge\"]\n"
     ]
    }
   ],
   "source": [
    "for i in dataset:\n",
    "    if i[1]==\"Chaise\":\n",
    "        print(i)\n",
    "        break"
   ]
  },
  {
   "cell_type": "code",
   "execution_count": 65,
   "metadata": {},
   "outputs": [
    {
     "name": "stdout",
     "output_type": "stream",
     "text": [
      "Somno\n",
      "Meuble colonne\n",
      "Chiffonnier (meuble)\n",
      "Meuble de métier\n",
      "Boîte à outils\n",
      "Bahut (coffre)\n",
      "Bonheur-du-jour\n",
      "Chaise Tugendhat\n",
      "Cabinet (meuble)\n",
      "Causeuse\n"
     ]
    }
   ],
   "source": [
    "for i in range(10):\n",
    "    print dataset[I[0,i]][1]"
   ]
  }
 ],
 "metadata": {
  "kernelspec": {
   "display_name": "Python 2",
   "language": "python",
   "name": "python2"
  },
  "language_info": {
   "codemirror_mode": {
    "name": "ipython",
    "version": 2
   },
   "file_extension": ".py",
   "mimetype": "text/x-python",
   "name": "python",
   "nbconvert_exporter": "python",
   "pygments_lexer": "ipython2",
   "version": "2.7.12"
  }
 },
 "nbformat": 4,
 "nbformat_minor": 2
}
